{
 "cells": [
  {
   "cell_type": "markdown",
   "metadata": {
    "id": "qUeKWAqWWOSw"
   },
   "source": [
    "## Homework: Multilingual Embedding-based Machine Translation (7 points)"
   ]
  },
  {
   "cell_type": "markdown",
   "metadata": {
    "id": "_-2LiS_BWOS0"
   },
   "source": [
    "**In this homework** **<font color='red'>YOU</font>** will make machine translation system without using parallel corpora, alignment, attention, 100500 depth super-cool recurrent neural network and all that kind superstuff.\n",
    "\n",
    "But even without parallel corpora this system can be good enough (hopefully).\n",
    "\n",
    "For our system we choose two kindred Slavic languages: Ukrainian and Russian."
   ]
  },
  {
   "cell_type": "markdown",
   "metadata": {
    "id": "_gCx7SS0WOS1"
   },
   "source": [
    "### Feel the difference!\n",
    "\n",
    "(_синій кіт_ vs. _синій кит_)"
   ]
  },
  {
   "cell_type": "markdown",
   "metadata": {
    "id": "MYZm37UXWOS3"
   },
   "source": [
    "![blue_cat_blue_whale.png](https://github.com/yandexdataschool/nlp_course/raw/master/resources/blue_cat_blue_whale.png)"
   ]
  },
  {
   "cell_type": "markdown",
   "metadata": {
    "id": "6xxKxXkoWOS3"
   },
   "source": [
    "### Fragment of the Swadesh list for some slavic languages\n",
    "\n",
    "The Swadesh list is a lexicostatistical stuff. It's named after American linguist Morris Swadesh and contains basic lexis. This list are used to define subgroupings of languages, its relatedness.\n",
    "\n",
    "So we can see some kind of word invariance for different Slavic languages.\n",
    "\n",
    "\n",
    "| Russian         | Belorussian              | Ukrainian               | Polish             | Czech                         | Bulgarian            |\n",
    "|-----------------|--------------------------|-------------------------|--------------------|-------------------------------|-----------------------|\n",
    "| женщина         | жанчына, кабета, баба    | жінка                   | kobieta            | žena                          | жена                  |\n",
    "| мужчина         | мужчына                  | чоловік, мужчина        | mężczyzna          | muž                           | мъж                   |\n",
    "| человек         | чалавек                  | людина, чоловік         | człowiek           | člověk                        | човек                 |\n",
    "| ребёнок, дитя   | дзіця, дзіцёнак, немаўля | дитина, дитя            | dziecko            | dítě                          | дете                  |\n",
    "| жена            | жонка                    | дружина, жінка          | żona               | žena, manželka, choť          | съпруга, жена         |\n",
    "| муж             | муж, гаспадар            | чоловiк, муж            | mąż                | muž, manžel, choť             | съпруг, мъж           |\n",
    "| мать, мама      | маці, матка              | мати, матір, неня, мама | matka              | matka, máma, 'стар.' mateř    | майка                 |\n",
    "| отец, тятя      | бацька, тата             | батько, тато, татусь    | ojciec             | otec                          | баща, татко           |\n",
    "| много           | шмат, багата             | багато                  | wiele              | mnoho, hodně                  | много                 |\n",
    "| несколько       | некалькі, колькі         | декілька, кілька        | kilka              | několik, pár, trocha          | няколко               |\n",
    "| другой, иной    | іншы                     | інший                   | inny               | druhý, jiný                   | друг                  |\n",
    "| зверь, животное | жывёла, звер, істота     | тварина, звір           | zwierzę            | zvíře                         | животно               |\n",
    "| рыба            | рыба                     | риба                    | ryba               | ryba                          | риба                  |\n",
    "| птица           | птушка                   | птах, птиця             | ptak               | pták                          | птица                 |\n",
    "| собака, пёс     | сабака                   | собака, пес             | pies               | pes                           | куче, пес             |\n",
    "| вошь            | вош                      | воша                    | wesz               | veš                           | въшка                 |\n",
    "| змея, гад       | змяя                     | змія, гад               | wąż                | had                           | змия                  |\n",
    "| червь, червяк   | чарвяк                   | хробак, черв'як         | robak              | červ                          | червей                |\n",
    "| дерево          | дрэва                    | дерево                  | drzewo             | strom, dřevo                  | дърво                 |\n",
    "| лес             | лес                      | ліс                     | las                | les                           | гора, лес             |\n",
    "| палка           | кій, палка               | палиця                  | patyk, pręt, pałka | hůl, klacek, prut, kůl, pálka | палка, пръчка, бастун |"
   ]
  },
  {
   "cell_type": "markdown",
   "metadata": {
    "id": "mXUUgAifWOS4"
   },
   "source": [
    "But the context distribution of these languages demonstrates even more invariance. And we can use this fact for our for our purposes."
   ]
  },
  {
   "cell_type": "markdown",
   "metadata": {
    "id": "VLwUW2gmWOS4"
   },
   "source": [
    "## Data"
   ]
  },
  {
   "cell_type": "code",
   "execution_count": 2,
   "metadata": {
    "id": "ZFEkT-xBWOS5"
   },
   "outputs": [],
   "source": [
    "import gensim\n",
    "import numpy as np\n",
    "\n",
    "from gensim.models import KeyedVectors\n"
   ]
  },
  {
   "cell_type": "markdown",
   "metadata": {
    "id": "d26CJJDFWOS7"
   },
   "source": [
    "Download embeddings here:\n",
    "* [cc.uk.300.vec.zip](https://yadi.sk/d/9CAeNsJiInoyUA)\n",
    "* [cc.ru.300.vec.zip](https://yadi.sk/d/3yG0-M4M8fypeQ)"
   ]
  },
  {
   "cell_type": "markdown",
   "metadata": {
    "id": "qo-sShF_WOS7"
   },
   "source": [
    "Load embeddings for ukrainian and russian."
   ]
  },
  {
   "cell_type": "code",
   "execution_count": 3,
   "metadata": {
    "colab": {
     "base_uri": "https://localhost:8080/",
     "height": 287
    },
    "id": "t0SNPo_zWOS7",
    "outputId": "03981b76-5e8c-42aa-884b-2e614c75a6ae"
   },
   "outputs": [],
   "source": [
    "uk_emb = KeyedVectors.load_word2vec_format(\"cc.uk.300.vec\")"
   ]
  },
  {
   "cell_type": "code",
   "execution_count": 4,
   "metadata": {
    "id": "wTCbcXeSWOS7"
   },
   "outputs": [],
   "source": [
    "ru_emb = KeyedVectors.load_word2vec_format(\"cc.ru.300.vec\")"
   ]
  },
  {
   "cell_type": "code",
   "execution_count": 5,
   "metadata": {
    "id": "1DWAGvwjWOS7"
   },
   "outputs": [
    {
     "data": {
      "text/plain": [
       "[('август', 1.0000001192092896),\n",
       " ('июль', 0.9383152723312378),\n",
       " ('сентябрь', 0.9240029454231262),\n",
       " ('июнь', 0.9222574830055237),\n",
       " ('октябрь', 0.9095539450645447),\n",
       " ('ноябрь', 0.8930036425590515),\n",
       " ('апрель', 0.8729087114334106),\n",
       " ('декабрь', 0.8652557730674744),\n",
       " ('март', 0.8545795679092407),\n",
       " ('февраль', 0.8401415944099426)]"
      ]
     },
     "execution_count": 5,
     "metadata": {},
     "output_type": "execute_result"
    }
   ],
   "source": [
    "ru_emb.most_similar([ru_emb[\"август\"]], topn=10)"
   ]
  },
  {
   "cell_type": "code",
   "execution_count": 6,
   "metadata": {
    "id": "3Xr9JZf_WOS8"
   },
   "outputs": [
    {
     "data": {
      "text/plain": [
       "[('серпень', 0.9999998807907104),\n",
       " ('липень', 0.9096441268920898),\n",
       " ('вересень', 0.9016969203948975),\n",
       " ('червень', 0.8992518782615662),\n",
       " ('жовтень', 0.8810408115386963),\n",
       " ('листопад', 0.8787633180618286),\n",
       " ('квітень', 0.8592804670333862),\n",
       " ('грудень', 0.8586863279342651),\n",
       " ('травень', 0.840811014175415),\n",
       " ('лютий', 0.8256431221961975)]"
      ]
     },
     "execution_count": 6,
     "metadata": {},
     "output_type": "execute_result"
    }
   ],
   "source": [
    "uk_emb.most_similar([uk_emb[\"серпень\"]])"
   ]
  },
  {
   "cell_type": "code",
   "execution_count": 7,
   "metadata": {
    "id": "QeTJhkRGWOS8"
   },
   "outputs": [
    {
     "data": {
      "text/plain": [
       "[('Недопустимость', 0.24435284733772278),\n",
       " ('конструктивность', 0.23293082416057587),\n",
       " ('офор', 0.23256804049015045),\n",
       " ('deteydlya', 0.230317160487175),\n",
       " ('пресечении', 0.22632381319999695),\n",
       " ('одностороннего', 0.22608886659145355),\n",
       " ('подход', 0.2230587750673294),\n",
       " ('иболее', 0.22003726661205292),\n",
       " ('2015Александр', 0.21872766315937042),\n",
       " ('конструктивен', 0.21796567738056183)]"
      ]
     },
     "execution_count": 7,
     "metadata": {},
     "output_type": "execute_result"
    }
   ],
   "source": [
    "ru_emb.most_similar([uk_emb[\"серпень\"]])"
   ]
  },
  {
   "cell_type": "markdown",
   "metadata": {
    "id": "mah4CF0rWOS8"
   },
   "source": [
    "Load small dictionaries for correspoinding words pairs as trainset and testset."
   ]
  },
  {
   "cell_type": "code",
   "execution_count": 8,
   "metadata": {
    "id": "zr71YqKjWOS8"
   },
   "outputs": [],
   "source": [
    "def load_word_pairs(filename):\n",
    "    uk_ru_pairs = []\n",
    "    uk_vectors = []\n",
    "    ru_vectors = []\n",
    "    with open(filename, \"r\") as inpf:\n",
    "        for line in inpf:\n",
    "            uk, ru = line.rstrip().split(\"\\t\")\n",
    "            if uk not in uk_emb or ru not in ru_emb:\n",
    "                continue\n",
    "            uk_ru_pairs.append((uk, ru))\n",
    "            uk_vectors.append(uk_emb[uk])\n",
    "            ru_vectors.append(ru_emb[ru])\n",
    "    return uk_ru_pairs, np.array(uk_vectors), np.array(ru_vectors)"
   ]
  },
  {
   "cell_type": "code",
   "execution_count": 9,
   "metadata": {
    "id": "UBv9XkTyWOS8"
   },
   "outputs": [],
   "source": [
    "uk_ru_train, X_train, Y_train = load_word_pairs(\"ukr_rus.train.txt\")"
   ]
  },
  {
   "cell_type": "code",
   "execution_count": 10,
   "metadata": {
    "id": "yZagqA5MWOS8"
   },
   "outputs": [],
   "source": [
    "uk_ru_test, X_test, Y_test = load_word_pairs(\"ukr_rus.test.txt\")"
   ]
  },
  {
   "cell_type": "markdown",
   "metadata": {
    "id": "WK48rpk-WOS8"
   },
   "source": [
    "## Embedding space mapping"
   ]
  },
  {
   "cell_type": "markdown",
   "metadata": {
    "id": "JWIu0hAcWOS8"
   },
   "source": [
    "Let $x_i \\in \\mathrm{R}^d$ be the distributed representation of word $i$ in the source language, and $y_i \\in \\mathrm{R}^d$ is the vector representation of its translation. Our purpose is to learn such linear transform $W$ that minimizes euclidian distance between $Wx_i$ and $y_i$ for some subset of word embeddings. Thus we can formulate so-called Procrustes problem:\n",
    "\n",
    "$$W^*= \\arg\\min_W \\sum_{i=1}^n||Wx_i - y_i||_2$$\n",
    "or\n",
    "$$W^*= \\arg\\min_W ||WX - Y||_F$$\n",
    "\n",
    "where $||*||_F$ - Frobenius norm.\n",
    "\n",
    "In Greek mythology, Procrustes or \"the stretcher\" was a rogue smith and bandit from Attica who attacked people by stretching them or cutting off their legs, so as to force them to fit the size of an iron bed. We make same bad things with source embedding space. Our Procrustean bed is target embedding space."
   ]
  },
  {
   "cell_type": "markdown",
   "metadata": {
    "id": "n1y-D2BQWOS8"
   },
   "source": [
    "![embedding_mapping.png](https://github.com/yandexdataschool/nlp_course/raw/master/resources/embedding_mapping.png)"
   ]
  },
  {
   "cell_type": "markdown",
   "metadata": {
    "id": "c1pOhC0fWOS8"
   },
   "source": [
    "![procrustes.png](https://github.com/yandexdataschool/nlp_course/raw/master/resources/procrustes.png)"
   ]
  },
  {
   "cell_type": "markdown",
   "metadata": {
    "id": "sqAKvYLJWOS9"
   },
   "source": [
    "But wait...$W^*= \\arg\\min_W \\sum_{i=1}^n||Wx_i - y_i||_2$ looks like simple multiple linear regression (without intercept fit). So let's code."
   ]
  },
  {
   "cell_type": "code",
   "execution_count": 18,
   "metadata": {
    "id": "736a8TDoWOS9"
   },
   "outputs": [
    {
     "data": {
      "text/html": [
       "<style>#sk-container-id-2 {\n",
       "  /* Definition of color scheme common for light and dark mode */\n",
       "  --sklearn-color-text: black;\n",
       "  --sklearn-color-line: gray;\n",
       "  /* Definition of color scheme for unfitted estimators */\n",
       "  --sklearn-color-unfitted-level-0: #fff5e6;\n",
       "  --sklearn-color-unfitted-level-1: #f6e4d2;\n",
       "  --sklearn-color-unfitted-level-2: #ffe0b3;\n",
       "  --sklearn-color-unfitted-level-3: chocolate;\n",
       "  /* Definition of color scheme for fitted estimators */\n",
       "  --sklearn-color-fitted-level-0: #f0f8ff;\n",
       "  --sklearn-color-fitted-level-1: #d4ebff;\n",
       "  --sklearn-color-fitted-level-2: #b3dbfd;\n",
       "  --sklearn-color-fitted-level-3: cornflowerblue;\n",
       "\n",
       "  /* Specific color for light theme */\n",
       "  --sklearn-color-text-on-default-background: var(--sg-text-color, var(--theme-code-foreground, var(--jp-content-font-color1, black)));\n",
       "  --sklearn-color-background: var(--sg-background-color, var(--theme-background, var(--jp-layout-color0, white)));\n",
       "  --sklearn-color-border-box: var(--sg-text-color, var(--theme-code-foreground, var(--jp-content-font-color1, black)));\n",
       "  --sklearn-color-icon: #696969;\n",
       "\n",
       "  @media (prefers-color-scheme: dark) {\n",
       "    /* Redefinition of color scheme for dark theme */\n",
       "    --sklearn-color-text-on-default-background: var(--sg-text-color, var(--theme-code-foreground, var(--jp-content-font-color1, white)));\n",
       "    --sklearn-color-background: var(--sg-background-color, var(--theme-background, var(--jp-layout-color0, #111)));\n",
       "    --sklearn-color-border-box: var(--sg-text-color, var(--theme-code-foreground, var(--jp-content-font-color1, white)));\n",
       "    --sklearn-color-icon: #878787;\n",
       "  }\n",
       "}\n",
       "\n",
       "#sk-container-id-2 {\n",
       "  color: var(--sklearn-color-text);\n",
       "}\n",
       "\n",
       "#sk-container-id-2 pre {\n",
       "  padding: 0;\n",
       "}\n",
       "\n",
       "#sk-container-id-2 input.sk-hidden--visually {\n",
       "  border: 0;\n",
       "  clip: rect(1px 1px 1px 1px);\n",
       "  clip: rect(1px, 1px, 1px, 1px);\n",
       "  height: 1px;\n",
       "  margin: -1px;\n",
       "  overflow: hidden;\n",
       "  padding: 0;\n",
       "  position: absolute;\n",
       "  width: 1px;\n",
       "}\n",
       "\n",
       "#sk-container-id-2 div.sk-dashed-wrapped {\n",
       "  border: 1px dashed var(--sklearn-color-line);\n",
       "  margin: 0 0.4em 0.5em 0.4em;\n",
       "  box-sizing: border-box;\n",
       "  padding-bottom: 0.4em;\n",
       "  background-color: var(--sklearn-color-background);\n",
       "}\n",
       "\n",
       "#sk-container-id-2 div.sk-container {\n",
       "  /* jupyter's `normalize.less` sets `[hidden] { display: none; }`\n",
       "     but bootstrap.min.css set `[hidden] { display: none !important; }`\n",
       "     so we also need the `!important` here to be able to override the\n",
       "     default hidden behavior on the sphinx rendered scikit-learn.org.\n",
       "     See: https://github.com/scikit-learn/scikit-learn/issues/21755 */\n",
       "  display: inline-block !important;\n",
       "  position: relative;\n",
       "}\n",
       "\n",
       "#sk-container-id-2 div.sk-text-repr-fallback {\n",
       "  display: none;\n",
       "}\n",
       "\n",
       "div.sk-parallel-item,\n",
       "div.sk-serial,\n",
       "div.sk-item {\n",
       "  /* draw centered vertical line to link estimators */\n",
       "  background-image: linear-gradient(var(--sklearn-color-text-on-default-background), var(--sklearn-color-text-on-default-background));\n",
       "  background-size: 2px 100%;\n",
       "  background-repeat: no-repeat;\n",
       "  background-position: center center;\n",
       "}\n",
       "\n",
       "/* Parallel-specific style estimator block */\n",
       "\n",
       "#sk-container-id-2 div.sk-parallel-item::after {\n",
       "  content: \"\";\n",
       "  width: 100%;\n",
       "  border-bottom: 2px solid var(--sklearn-color-text-on-default-background);\n",
       "  flex-grow: 1;\n",
       "}\n",
       "\n",
       "#sk-container-id-2 div.sk-parallel {\n",
       "  display: flex;\n",
       "  align-items: stretch;\n",
       "  justify-content: center;\n",
       "  background-color: var(--sklearn-color-background);\n",
       "  position: relative;\n",
       "}\n",
       "\n",
       "#sk-container-id-2 div.sk-parallel-item {\n",
       "  display: flex;\n",
       "  flex-direction: column;\n",
       "}\n",
       "\n",
       "#sk-container-id-2 div.sk-parallel-item:first-child::after {\n",
       "  align-self: flex-end;\n",
       "  width: 50%;\n",
       "}\n",
       "\n",
       "#sk-container-id-2 div.sk-parallel-item:last-child::after {\n",
       "  align-self: flex-start;\n",
       "  width: 50%;\n",
       "}\n",
       "\n",
       "#sk-container-id-2 div.sk-parallel-item:only-child::after {\n",
       "  width: 0;\n",
       "}\n",
       "\n",
       "/* Serial-specific style estimator block */\n",
       "\n",
       "#sk-container-id-2 div.sk-serial {\n",
       "  display: flex;\n",
       "  flex-direction: column;\n",
       "  align-items: center;\n",
       "  background-color: var(--sklearn-color-background);\n",
       "  padding-right: 1em;\n",
       "  padding-left: 1em;\n",
       "}\n",
       "\n",
       "\n",
       "/* Toggleable style: style used for estimator/Pipeline/ColumnTransformer box that is\n",
       "clickable and can be expanded/collapsed.\n",
       "- Pipeline and ColumnTransformer use this feature and define the default style\n",
       "- Estimators will overwrite some part of the style using the `sk-estimator` class\n",
       "*/\n",
       "\n",
       "/* Pipeline and ColumnTransformer style (default) */\n",
       "\n",
       "#sk-container-id-2 div.sk-toggleable {\n",
       "  /* Default theme specific background. It is overwritten whether we have a\n",
       "  specific estimator or a Pipeline/ColumnTransformer */\n",
       "  background-color: var(--sklearn-color-background);\n",
       "}\n",
       "\n",
       "/* Toggleable label */\n",
       "#sk-container-id-2 label.sk-toggleable__label {\n",
       "  cursor: pointer;\n",
       "  display: block;\n",
       "  width: 100%;\n",
       "  margin-bottom: 0;\n",
       "  padding: 0.5em;\n",
       "  box-sizing: border-box;\n",
       "  text-align: center;\n",
       "}\n",
       "\n",
       "#sk-container-id-2 label.sk-toggleable__label-arrow:before {\n",
       "  /* Arrow on the left of the label */\n",
       "  content: \"▸\";\n",
       "  float: left;\n",
       "  margin-right: 0.25em;\n",
       "  color: var(--sklearn-color-icon);\n",
       "}\n",
       "\n",
       "#sk-container-id-2 label.sk-toggleable__label-arrow:hover:before {\n",
       "  color: var(--sklearn-color-text);\n",
       "}\n",
       "\n",
       "/* Toggleable content - dropdown */\n",
       "\n",
       "#sk-container-id-2 div.sk-toggleable__content {\n",
       "  max-height: 0;\n",
       "  max-width: 0;\n",
       "  overflow: hidden;\n",
       "  text-align: left;\n",
       "  /* unfitted */\n",
       "  background-color: var(--sklearn-color-unfitted-level-0);\n",
       "}\n",
       "\n",
       "#sk-container-id-2 div.sk-toggleable__content.fitted {\n",
       "  /* fitted */\n",
       "  background-color: var(--sklearn-color-fitted-level-0);\n",
       "}\n",
       "\n",
       "#sk-container-id-2 div.sk-toggleable__content pre {\n",
       "  margin: 0.2em;\n",
       "  border-radius: 0.25em;\n",
       "  color: var(--sklearn-color-text);\n",
       "  /* unfitted */\n",
       "  background-color: var(--sklearn-color-unfitted-level-0);\n",
       "}\n",
       "\n",
       "#sk-container-id-2 div.sk-toggleable__content.fitted pre {\n",
       "  /* unfitted */\n",
       "  background-color: var(--sklearn-color-fitted-level-0);\n",
       "}\n",
       "\n",
       "#sk-container-id-2 input.sk-toggleable__control:checked~div.sk-toggleable__content {\n",
       "  /* Expand drop-down */\n",
       "  max-height: 200px;\n",
       "  max-width: 100%;\n",
       "  overflow: auto;\n",
       "}\n",
       "\n",
       "#sk-container-id-2 input.sk-toggleable__control:checked~label.sk-toggleable__label-arrow:before {\n",
       "  content: \"▾\";\n",
       "}\n",
       "\n",
       "/* Pipeline/ColumnTransformer-specific style */\n",
       "\n",
       "#sk-container-id-2 div.sk-label input.sk-toggleable__control:checked~label.sk-toggleable__label {\n",
       "  color: var(--sklearn-color-text);\n",
       "  background-color: var(--sklearn-color-unfitted-level-2);\n",
       "}\n",
       "\n",
       "#sk-container-id-2 div.sk-label.fitted input.sk-toggleable__control:checked~label.sk-toggleable__label {\n",
       "  background-color: var(--sklearn-color-fitted-level-2);\n",
       "}\n",
       "\n",
       "/* Estimator-specific style */\n",
       "\n",
       "/* Colorize estimator box */\n",
       "#sk-container-id-2 div.sk-estimator input.sk-toggleable__control:checked~label.sk-toggleable__label {\n",
       "  /* unfitted */\n",
       "  background-color: var(--sklearn-color-unfitted-level-2);\n",
       "}\n",
       "\n",
       "#sk-container-id-2 div.sk-estimator.fitted input.sk-toggleable__control:checked~label.sk-toggleable__label {\n",
       "  /* fitted */\n",
       "  background-color: var(--sklearn-color-fitted-level-2);\n",
       "}\n",
       "\n",
       "#sk-container-id-2 div.sk-label label.sk-toggleable__label,\n",
       "#sk-container-id-2 div.sk-label label {\n",
       "  /* The background is the default theme color */\n",
       "  color: var(--sklearn-color-text-on-default-background);\n",
       "}\n",
       "\n",
       "/* On hover, darken the color of the background */\n",
       "#sk-container-id-2 div.sk-label:hover label.sk-toggleable__label {\n",
       "  color: var(--sklearn-color-text);\n",
       "  background-color: var(--sklearn-color-unfitted-level-2);\n",
       "}\n",
       "\n",
       "/* Label box, darken color on hover, fitted */\n",
       "#sk-container-id-2 div.sk-label.fitted:hover label.sk-toggleable__label.fitted {\n",
       "  color: var(--sklearn-color-text);\n",
       "  background-color: var(--sklearn-color-fitted-level-2);\n",
       "}\n",
       "\n",
       "/* Estimator label */\n",
       "\n",
       "#sk-container-id-2 div.sk-label label {\n",
       "  font-family: monospace;\n",
       "  font-weight: bold;\n",
       "  display: inline-block;\n",
       "  line-height: 1.2em;\n",
       "}\n",
       "\n",
       "#sk-container-id-2 div.sk-label-container {\n",
       "  text-align: center;\n",
       "}\n",
       "\n",
       "/* Estimator-specific */\n",
       "#sk-container-id-2 div.sk-estimator {\n",
       "  font-family: monospace;\n",
       "  border: 1px dotted var(--sklearn-color-border-box);\n",
       "  border-radius: 0.25em;\n",
       "  box-sizing: border-box;\n",
       "  margin-bottom: 0.5em;\n",
       "  /* unfitted */\n",
       "  background-color: var(--sklearn-color-unfitted-level-0);\n",
       "}\n",
       "\n",
       "#sk-container-id-2 div.sk-estimator.fitted {\n",
       "  /* fitted */\n",
       "  background-color: var(--sklearn-color-fitted-level-0);\n",
       "}\n",
       "\n",
       "/* on hover */\n",
       "#sk-container-id-2 div.sk-estimator:hover {\n",
       "  /* unfitted */\n",
       "  background-color: var(--sklearn-color-unfitted-level-2);\n",
       "}\n",
       "\n",
       "#sk-container-id-2 div.sk-estimator.fitted:hover {\n",
       "  /* fitted */\n",
       "  background-color: var(--sklearn-color-fitted-level-2);\n",
       "}\n",
       "\n",
       "/* Specification for estimator info (e.g. \"i\" and \"?\") */\n",
       "\n",
       "/* Common style for \"i\" and \"?\" */\n",
       "\n",
       ".sk-estimator-doc-link,\n",
       "a:link.sk-estimator-doc-link,\n",
       "a:visited.sk-estimator-doc-link {\n",
       "  float: right;\n",
       "  font-size: smaller;\n",
       "  line-height: 1em;\n",
       "  font-family: monospace;\n",
       "  background-color: var(--sklearn-color-background);\n",
       "  border-radius: 1em;\n",
       "  height: 1em;\n",
       "  width: 1em;\n",
       "  text-decoration: none !important;\n",
       "  margin-left: 1ex;\n",
       "  /* unfitted */\n",
       "  border: var(--sklearn-color-unfitted-level-1) 1pt solid;\n",
       "  color: var(--sklearn-color-unfitted-level-1);\n",
       "}\n",
       "\n",
       ".sk-estimator-doc-link.fitted,\n",
       "a:link.sk-estimator-doc-link.fitted,\n",
       "a:visited.sk-estimator-doc-link.fitted {\n",
       "  /* fitted */\n",
       "  border: var(--sklearn-color-fitted-level-1) 1pt solid;\n",
       "  color: var(--sklearn-color-fitted-level-1);\n",
       "}\n",
       "\n",
       "/* On hover */\n",
       "div.sk-estimator:hover .sk-estimator-doc-link:hover,\n",
       ".sk-estimator-doc-link:hover,\n",
       "div.sk-label-container:hover .sk-estimator-doc-link:hover,\n",
       ".sk-estimator-doc-link:hover {\n",
       "  /* unfitted */\n",
       "  background-color: var(--sklearn-color-unfitted-level-3);\n",
       "  color: var(--sklearn-color-background);\n",
       "  text-decoration: none;\n",
       "}\n",
       "\n",
       "div.sk-estimator.fitted:hover .sk-estimator-doc-link.fitted:hover,\n",
       ".sk-estimator-doc-link.fitted:hover,\n",
       "div.sk-label-container:hover .sk-estimator-doc-link.fitted:hover,\n",
       ".sk-estimator-doc-link.fitted:hover {\n",
       "  /* fitted */\n",
       "  background-color: var(--sklearn-color-fitted-level-3);\n",
       "  color: var(--sklearn-color-background);\n",
       "  text-decoration: none;\n",
       "}\n",
       "\n",
       "/* Span, style for the box shown on hovering the info icon */\n",
       ".sk-estimator-doc-link span {\n",
       "  display: none;\n",
       "  z-index: 9999;\n",
       "  position: relative;\n",
       "  font-weight: normal;\n",
       "  right: .2ex;\n",
       "  padding: .5ex;\n",
       "  margin: .5ex;\n",
       "  width: min-content;\n",
       "  min-width: 20ex;\n",
       "  max-width: 50ex;\n",
       "  color: var(--sklearn-color-text);\n",
       "  box-shadow: 2pt 2pt 4pt #999;\n",
       "  /* unfitted */\n",
       "  background: var(--sklearn-color-unfitted-level-0);\n",
       "  border: .5pt solid var(--sklearn-color-unfitted-level-3);\n",
       "}\n",
       "\n",
       ".sk-estimator-doc-link.fitted span {\n",
       "  /* fitted */\n",
       "  background: var(--sklearn-color-fitted-level-0);\n",
       "  border: var(--sklearn-color-fitted-level-3);\n",
       "}\n",
       "\n",
       ".sk-estimator-doc-link:hover span {\n",
       "  display: block;\n",
       "}\n",
       "\n",
       "/* \"?\"-specific style due to the `<a>` HTML tag */\n",
       "\n",
       "#sk-container-id-2 a.estimator_doc_link {\n",
       "  float: right;\n",
       "  font-size: 1rem;\n",
       "  line-height: 1em;\n",
       "  font-family: monospace;\n",
       "  background-color: var(--sklearn-color-background);\n",
       "  border-radius: 1rem;\n",
       "  height: 1rem;\n",
       "  width: 1rem;\n",
       "  text-decoration: none;\n",
       "  /* unfitted */\n",
       "  color: var(--sklearn-color-unfitted-level-1);\n",
       "  border: var(--sklearn-color-unfitted-level-1) 1pt solid;\n",
       "}\n",
       "\n",
       "#sk-container-id-2 a.estimator_doc_link.fitted {\n",
       "  /* fitted */\n",
       "  border: var(--sklearn-color-fitted-level-1) 1pt solid;\n",
       "  color: var(--sklearn-color-fitted-level-1);\n",
       "}\n",
       "\n",
       "/* On hover */\n",
       "#sk-container-id-2 a.estimator_doc_link:hover {\n",
       "  /* unfitted */\n",
       "  background-color: var(--sklearn-color-unfitted-level-3);\n",
       "  color: var(--sklearn-color-background);\n",
       "  text-decoration: none;\n",
       "}\n",
       "\n",
       "#sk-container-id-2 a.estimator_doc_link.fitted:hover {\n",
       "  /* fitted */\n",
       "  background-color: var(--sklearn-color-fitted-level-3);\n",
       "}\n",
       "</style><div id=\"sk-container-id-2\" class=\"sk-top-container\"><div class=\"sk-text-repr-fallback\"><pre>LinearRegression()</pre><b>In a Jupyter environment, please rerun this cell to show the HTML representation or trust the notebook. <br />On GitHub, the HTML representation is unable to render, please try loading this page with nbviewer.org.</b></div><div class=\"sk-container\" hidden><div class=\"sk-item\"><div class=\"sk-estimator fitted sk-toggleable\"><input class=\"sk-toggleable__control sk-hidden--visually\" id=\"sk-estimator-id-2\" type=\"checkbox\" checked><label for=\"sk-estimator-id-2\" class=\"sk-toggleable__label fitted sk-toggleable__label-arrow fitted\">&nbsp;&nbsp;LinearRegression<a class=\"sk-estimator-doc-link fitted\" rel=\"noreferrer\" target=\"_blank\" href=\"https://scikit-learn.org/1.5/modules/generated/sklearn.linear_model.LinearRegression.html\">?<span>Documentation for LinearRegression</span></a><span class=\"sk-estimator-doc-link fitted\">i<span>Fitted</span></span></label><div class=\"sk-toggleable__content fitted\"><pre>LinearRegression()</pre></div> </div></div></div></div>"
      ],
      "text/plain": [
       "LinearRegression()"
      ]
     },
     "execution_count": 18,
     "metadata": {},
     "output_type": "execute_result"
    }
   ],
   "source": [
    "from sklearn.linear_model import LinearRegression\n",
    "\n",
    "mapping = LinearRegression()\n",
    "\n",
    "mapping.fit(X_train, Y_train)"
   ]
  },
  {
   "cell_type": "markdown",
   "metadata": {
    "id": "EMTmeDs0WOS9"
   },
   "source": [
    "Let's take a look at neigbours of the vector of word _\"серпень\"_ (_\"август\"_ in Russian) after linear transform."
   ]
  },
  {
   "cell_type": "code",
   "execution_count": 77,
   "metadata": {},
   "outputs": [
    {
     "data": {
      "text/plain": [
       "[('або', 'либо'),\n",
       " ('активний', 'активный'),\n",
       " ('актор', 'актер'),\n",
       " ('але', 'ж'),\n",
       " ('асамблея', 'собрание'),\n",
       " ('бабуся', 'бабушка'),\n",
       " ('багажник', 'ствол'),\n",
       " ('бажати', 'желать'),\n",
       " ('башта', 'башня'),\n",
       " ('бізнес', 'бизнес'),\n",
       " ('бійка', 'драка'),\n",
       " ('блискавка', 'молния'),\n",
       " ('братися', 'браться'),\n",
       " ('будиночок', 'домик'),\n",
       " ('будівництво', 'строительство'),\n",
       " ('важливо', 'важно'),\n",
       " ('валити', 'валить'),\n",
       " ('вантаж', 'груз'),\n",
       " ('вдячність', 'благодарность'),\n",
       " ('величність', 'величество'),\n",
       " ('вечеря', 'обед'),\n",
       " ('вечірній', 'вечерний'),\n",
       " ('вибирати', 'выбирать'),\n",
       " ('визнати', 'признать'),\n",
       " ('використати', 'использовать'),\n",
       " ('винести', 'вынести'),\n",
       " ('вирок', 'приговор'),\n",
       " ('виступити', 'выступить'),\n",
       " ('відвести', 'отвести'),\n",
       " ('відкриватися', 'открываться'),\n",
       " ('відмінний', 'отличный'),\n",
       " ('відрізати', 'отрезать'),\n",
       " ('вік', 'возраст'),\n",
       " ('вісім', 'восемь'),\n",
       " ('вітати', 'пожаловать'),\n",
       " ('вовк', 'волк'),\n",
       " ('водити', 'водить'),\n",
       " ('водій', 'водитель'),\n",
       " ('володіти', 'обладать'),\n",
       " ('впевненість', 'уверенность'),\n",
       " ('врахувати', 'учесть'),\n",
       " ('врятувати', 'спасти'),\n",
       " ('втручатися', 'вмешиваться'),\n",
       " ('вухо', 'ухо'),\n",
       " ('вхід', 'подъезд'),\n",
       " ('газети', 'газета'),\n",
       " ('галузь', 'отрасль'),\n",
       " ('галявина', 'поляна'),\n",
       " ('геній', 'гений'),\n",
       " ('говорити', 'проговорить'),\n",
       " ('голодний', 'голодный'),\n",
       " ('готель', 'отель'),\n",
       " ('готовність', 'готовность'),\n",
       " ('громадянин', 'гражданин'),\n",
       " ('грудень', 'декабрь'),\n",
       " ('ґрунт', 'почва'),\n",
       " ('дах', 'крыша'),\n",
       " ('двісті', 'двести'),\n",
       " ('двічі', 'дважды'),\n",
       " ('де', 'где'),\n",
       " ('деревини', 'лес'),\n",
       " ('дзеркало', 'зеркало'),\n",
       " ('дивитися', 'глядеть'),\n",
       " ('дивитися', 'смотреть'),\n",
       " ('дивізія', 'дивизия'),\n",
       " ('дивуватися', 'удивляться'),\n",
       " ('діаманти', 'бриллианты'),\n",
       " ('дід', 'дед'),\n",
       " ('днів', 'дни'),\n",
       " ('довести', 'принести'),\n",
       " ('довести', 'приносить'),\n",
       " ('доводити', 'доказать'),\n",
       " ('дозволити', 'позволять'),\n",
       " ('до', 'ко'),\n",
       " ('допустити', 'допустить'),\n",
       " ('дотепи', 'остроты'),\n",
       " ('дотепно', 'остроумно'),\n",
       " ('дурний', 'дурной'),\n",
       " ('духовний', 'духовный'),\n",
       " ('експедиція', 'экспедиция'),\n",
       " ('електричний', 'электрический'),\n",
       " ('елемент', 'элемент'),\n",
       " ('етап', 'сцена'),\n",
       " ('жаль', 'жалко'),\n",
       " ('жарт', 'шутка'),\n",
       " ('женіть', 'женить'),\n",
       " ('життєвий', 'жизненный'),\n",
       " ('заарештувати', 'арестовать'),\n",
       " ('забезпечити', 'обеспечить'),\n",
       " ('задавати', 'задавать'),\n",
       " ('задоволення', 'удовольствие'),\n",
       " ('зазирнути', 'заглянуть'),\n",
       " ('закривати', 'закрывать'),\n",
       " ('залізничний', 'железнодорожный'),\n",
       " ('залюбки', 'охотно'),\n",
       " ('запропонувати', 'предложить'),\n",
       " ('запрошувати', 'приглашать'),\n",
       " ('засипати', 'засыпать'),\n",
       " ('засідання', 'заседание'),\n",
       " ('заспокоїти', 'успокоить'),\n",
       " ('затримати', 'задержать'),\n",
       " ('захист', 'защита'),\n",
       " ('зберегтися', 'сохраниться'),\n",
       " ('збори', 'собрание'),\n",
       " ('зброя', 'оружие'),\n",
       " ('звичайний', 'обыкновенный'),\n",
       " ('згоден', 'согласный'),\n",
       " ('здати', 'сдать'),\n",
       " ('зимовий', 'зимний'),\n",
       " ('зізнатися', 'признаться'),\n",
       " ('зірватися', 'сорваться'),\n",
       " ('злодій', 'вор'),\n",
       " ('змінити', 'изменить'),\n",
       " ('змінити', 'сменить'),\n",
       " ('знайти', 'найти'),\n",
       " ('знання', 'знание'),\n",
       " ('знищити', 'уничтожить'),\n",
       " ('знову', 'вновь'),\n",
       " ('зображення', 'образ'),\n",
       " ('зробити', 'составить'),\n",
       " ('зробити', 'составлять'),\n",
       " ('зробитися', 'сделаться'),\n",
       " ('зрозуміти', 'разобраться'),\n",
       " ('зручний', 'удобный'),\n",
       " ('імовірно', 'наверно'),\n",
       " ('їжа', 'еда'),\n",
       " ('його', 'его'),\n",
       " ('йти', 'отправиться'),\n",
       " ('йти', 'поехать'),\n",
       " ('картопля', 'картошка'),\n",
       " ('квіти', 'цветки'),\n",
       " ('кільце', 'кольцо'),\n",
       " ('кіно', 'кино'),\n",
       " ('клапоть', 'лоскут'),\n",
       " ('клієнт', 'клиент'),\n",
       " ('колінний', 'колено'),\n",
       " ('колодязь', 'колодец'),\n",
       " ('кома', 'запятая'),\n",
       " ('комунізм', 'коммунизм'),\n",
       " ('конфлікт', 'конфликт'),\n",
       " ('копійка', 'копейка'),\n",
       " ('кордон', 'рубеж'),\n",
       " ('корінь', 'корень'),\n",
       " ('країни', 'страна'),\n",
       " ('країни', 'страны'),\n",
       " ('кулемет', 'пулемет'),\n",
       " ('куля', 'пуля'),\n",
       " ('лабораторія', 'лаборатория'),\n",
       " ('лава', 'скамейка'),\n",
       " ('лазня', 'баня'),\n",
       " ('ламати', 'ломать'),\n",
       " ('липень', 'июль'),\n",
       " ('лід', 'лед'),\n",
       " ('лікар', 'доктор'),\n",
       " ('літати', 'лететь'),\n",
       " ('ліфт', 'лифт'),\n",
       " ('льодяний', 'ледяной'),\n",
       " ('лягати', 'ложиться'),\n",
       " ('малюк', 'малыш'),\n",
       " ('масовий', 'массовый'),\n",
       " ('мені', 'мне'),\n",
       " ('металевий', 'металлический'),\n",
       " ('миттєвих', 'миг'),\n",
       " ('мінятися', 'меняться'),\n",
       " ('містечко', 'городок'),\n",
       " ('міст', 'мост'),\n",
       " ('мішок', 'мешок'),\n",
       " ('мовчання', 'молчание'),\n",
       " ('молодь', 'молодежь'),\n",
       " ('моторошно', 'жутко'),\n",
       " ('мрець', 'мертвец'),\n",
       " ('музика', 'музыка'),\n",
       " ('музикант', 'музыкант'),\n",
       " ('наближатися', 'приближаться'),\n",
       " ('набриднути', 'надоесть'),\n",
       " ('навесні', 'весна'),\n",
       " ('навколо', 'вокруг'),\n",
       " ('навпаки', 'напротив'),\n",
       " ('нагадати', 'напомнить'),\n",
       " ('назавжди', 'навсегда'),\n",
       " ('наклад', 'тираж'),\n",
       " ('налити', 'налить'),\n",
       " ('намір', 'намерение'),\n",
       " ('наприклад', 'например'),\n",
       " ('нарада', 'совещание'),\n",
       " ('настрій', 'настроение'),\n",
       " ('нація', 'нация'),\n",
       " ('наявність', 'наличие'),\n",
       " ('невидимий', 'невидимый'),\n",
       " ('негайно', 'тотчас'),\n",
       " ('неголосно', 'негромко'),\n",
       " ('незрозумілий', 'непонятный'),\n",
       " ('неможливо', 'невозможно'),\n",
       " ('неприємність', 'неприятность'),\n",
       " ('нетрі', 'дебри'),\n",
       " ('нею', 'ею'),\n",
       " ('нібито', 'якобы'),\n",
       " ('ніде', 'нигде'),\n",
       " ('ніж', 'чем'),\n",
       " ('нічого', 'ничто'),\n",
       " ('нього', 'него'),\n",
       " ('оаза', 'оазис'),\n",
       " ('обіцяти', 'обещать'),\n",
       " ('обмеження', 'ограничение'),\n",
       " ('образа', 'обида'),\n",
       " ('обурення', 'возмущение'),\n",
       " ('оглянути', 'осмотреть'),\n",
       " ('одружитися', 'жениться'),\n",
       " ('організувати', 'организовать'),\n",
       " ('основи', 'основа'),\n",
       " ('основи', 'основание'),\n",
       " ('особливість', 'особенность'),\n",
       " ('особливо', 'особо'),\n",
       " ('останній', 'последний'),\n",
       " ('оточити', 'окружить'),\n",
       " ('отримати', 'полезть'),\n",
       " ('палац', 'дворец'),\n",
       " ('партійний', 'партийный'),\n",
       " ('паща', 'пасть'),\n",
       " ('певно', 'наверное'),\n",
       " ('пенсія', 'пенсия'),\n",
       " ('перевірка', 'проверка'),\n",
       " ('перейти', 'двинуться'),\n",
       " ('перемога', 'победа'),\n",
       " ('перукарня', 'парикмахерская'),\n",
       " ('перший', 'первый'),\n",
       " ('півгодини', 'полчаса'),\n",
       " ('підборіддя', 'подбородок'),\n",
       " ('піджак', 'пиджак'),\n",
       " ('підозрювати', 'подозревать'),\n",
       " ('підпис', 'подпись'),\n",
       " ('платити', 'платить'),\n",
       " ('пляшка', 'бутылка'),\n",
       " ('побачення', 'свидание'),\n",
       " ('побувати', 'побывать'),\n",
       " ('повернення', 'возвращение'),\n",
       " ('повз', 'мимо'),\n",
       " ('повзти', 'ползти'),\n",
       " ('повільно', 'медленно'),\n",
       " ('подарувати', 'подарить'),\n",
       " ('подзвонити', 'позвать'),\n",
       " ('подих', 'дыхание'),\n",
       " ('подобатися', 'нравиться'),\n",
       " ('по-друге', 'во-вторых'),\n",
       " ('подяка', 'благодарность'),\n",
       " ('пожежа', 'костер'),\n",
       " ('поїздка', 'поездка'),\n",
       " ('покинути', 'покинуть'),\n",
       " ('померти', 'умирать'),\n",
       " ('помічник', 'помощник'),\n",
       " ('поправити', 'поправить'),\n",
       " ('порiвняно', 'сравнительно'),\n",
       " ('поразка', 'поражение'),\n",
       " ('поранений', 'раненый'),\n",
       " ('порівняння', 'сравнение'),\n",
       " ('поріг', 'порог'),\n",
       " ('постаратися', 'постараться'),\n",
       " ('постать', 'фигура'),\n",
       " ('постійно', 'постоянно'),\n",
       " ('поступово', 'постепенно'),\n",
       " ('пошук', 'поиск'),\n",
       " ('правильний', 'правильный'),\n",
       " ('правління', 'борт'),\n",
       " ('прибувати', 'прибыть'),\n",
       " ('приготувати', 'приготовить'),\n",
       " ('прийти', 'заходить'),\n",
       " ('припускати', 'предполагать'),\n",
       " ('прислухатися', 'прислушиваться'),\n",
       " ('пристрій', 'аппарат'),\n",
       " ('приховувати', 'скрывать'),\n",
       " ('проекту', 'проект'),\n",
       " ('про', 'об'),\n",
       " ('проте', 'однако'),\n",
       " ('прямий', 'направить'),\n",
       " ('пустеля', 'пустыня'),\n",
       " ('раптово', 'внезапно'),\n",
       " ('рибалка', 'рыбак'),\n",
       " ('рівний', 'ровный'),\n",
       " ('рівні', 'уровни'),\n",
       " ('різкий', 'резкий'),\n",
       " ('різниця', 'разница'),\n",
       " ('ріки', 'реки'),\n",
       " ('річка', 'речка'),\n",
       " ('розглядати', 'разглядывать'),\n",
       " ('рушник', 'полотенце'),\n",
       " ('рятувальник', 'спасатель'),\n",
       " ('рятувати', 'спасать'),\n",
       " ('свідок', 'свидетель'),\n",
       " ('світанок', 'рассвет'),\n",
       " ('світло', 'свет'),\n",
       " ('селище', 'поселок'),\n",
       " ('середній', 'середина'),\n",
       " ('серпень', 'август'),\n",
       " ('сестри', 'сёстры'),\n",
       " ('сидячи', 'сидя'),\n",
       " ('сирий', 'сырой'),\n",
       " ('сімей', 'семьи'),\n",
       " ('сімсот', 'семьсот'),\n",
       " ('скромний', 'скромный'),\n",
       " ('службовий', 'служебный'),\n",
       " ('слухати', 'послушать'),\n",
       " ('смiття', 'мусор'),\n",
       " ('смажений', 'жареный'),\n",
       " ('собі', 'себе'),\n",
       " ('спис', 'копье'),\n",
       " ('спитати', 'спрашивать'),\n",
       " ('спогади', 'воспоминание'),\n",
       " ('справедливість', 'справедливость'),\n",
       " ('срібний', 'серебряный'),\n",
       " ('ставка', 'курс'),\n",
       " ('старовинний', 'старинный'),\n",
       " ('створювати', 'создавать'),\n",
       " ('стегно', 'бедро'),\n",
       " ('сторінка', 'страница'),\n",
       " ('сто', 'сотня'),\n",
       " ('стояти', 'стоять'),\n",
       " ('стрічка', 'лента'),\n",
       " ('стукати', 'стучать'),\n",
       " ('ступінь', 'степень'),\n",
       " ('суворий', 'строгий'),\n",
       " ('суворий', 'суровый'),\n",
       " ('суддя', 'судья'),\n",
       " ('сумний', 'печальный'),\n",
       " ('суцільний', 'сплошной'),\n",
       " ('сходинка', 'ступенька'),\n",
       " ('телефонний', 'телефонный'),\n",
       " ('території', 'территория'),\n",
       " ('терміново', 'срочно'),\n",
       " ('термін', 'срок'),\n",
       " ('тил', 'тыл'),\n",
       " ('тогочасна', 'тогдашняя'),\n",
       " ('тоді', 'тогда'),\n",
       " ('тому', 'потому'),\n",
       " ('тортури', 'пытки'),\n",
       " ('травень', 'май'),\n",
       " ('трави', 'травы'),\n",
       " ('традиція', 'традиция'),\n",
       " ('трапитися', 'случиться'),\n",
       " ('триває', 'длится'),\n",
       " ('тривалий', 'длительный'),\n",
       " ('тривати', 'продолжаться'),\n",
       " ('тримати', 'держать'),\n",
       " ('трудовий', 'трудовой'),\n",
       " ('труна', 'гроб'),\n",
       " ('труну', 'гроб'),\n",
       " ('тут', 'здесь'),\n",
       " ('тут', 'сюда'),\n",
       " ('тягти', 'тащить'),\n",
       " ('убрання', 'наряд'),\n",
       " ('увечері', 'вечер'),\n",
       " ('украсти', 'украсть'),\n",
       " ('університету', 'университет'),\n",
       " ('успіх', 'успех'),\n",
       " ('фахово', 'профессионально'),\n",
       " ('фільм', 'фильм'),\n",
       " ('функція', 'функция'),\n",
       " ('хвильовий', 'волна'),\n",
       " ('хвилювання', 'волнение'),\n",
       " ('хвіст', 'хвост'),\n",
       " ('хлопчики', 'парни'),\n",
       " ('хмара', 'облако'),\n",
       " ('хрест', 'крест'),\n",
       " ('цей', 'сей'),\n",
       " ('церква', 'церковь'),\n",
       " ('цивільний', 'гражданский'),\n",
       " ('цифра', 'фигура'),\n",
       " ('цікавитися', 'интересоваться'),\n",
       " ('цукор', 'сахар'),\n",
       " ('чекати', 'ждать'),\n",
       " ('чекати', 'подождать'),\n",
       " ('чиє', 'чей'),\n",
       " ('число', 'номер'),\n",
       " ('читати', 'прочесть'),\n",
       " ('читати', 'читать'),\n",
       " ('чоботи', 'сапоги'),\n",
       " ('чоловік', 'мужчина'),\n",
       " ('чужинець', 'иностранец'),\n",
       " ('чути', 'слышать'),\n",
       " ('чути', 'слышаться'),\n",
       " ('шинка', 'ветчина'),\n",
       " ('шосе', 'шоссе'),\n",
       " ('шостий', 'шестой'),\n",
       " ('щоки', 'щёки'),\n",
       " ('що', 'тому'),\n",
       " ('який', 'кой'),\n",
       " ('якість', 'качество'),\n",
       " ('які', 'чего')]"
      ]
     },
     "execution_count": 77,
     "metadata": {},
     "output_type": "execute_result"
    }
   ],
   "source": [
    "uk_ru_test"
   ]
  },
  {
   "cell_type": "code",
   "execution_count": 17,
   "metadata": {},
   "outputs": [
    {
     "name": "stdout",
     "output_type": "stream",
     "text": [
      "Found existing installation: mapping 0.1.6\n",
      "Uninstalling mapping-0.1.6:\n",
      "  Successfully uninstalled mapping-0.1.6\n"
     ]
    }
   ],
   "source": [
    "!pip uninstall mapping -y"
   ]
  },
  {
   "cell_type": "code",
   "execution_count": null,
   "metadata": {
    "id": "XzRss53bWOS9"
   },
   "outputs": [
    {
     "data": {
      "text/plain": [
       "[('июль', 0.399301677942276),\n",
       " ('июнь', 0.38951030373573303),\n",
       " ('апрель', 0.37630924582481384),\n",
       " ('август', 0.3732186257839203),\n",
       " ('март', 0.3712620437145233),\n",
       " ('ноябрь', 0.36559635400772095),\n",
       " ('февраль', 0.36409056186676025),\n",
       " ('декабрь', 0.3629503548145294),\n",
       " ('сентябрь', 0.36154550313949585),\n",
       " ('октябрь', 0.35418421030044556)]"
      ]
     },
     "execution_count": 78,
     "metadata": {},
     "output_type": "execute_result"
    }
   ],
   "source": [
    "august = mapping.predict(uk_emb[\"серпень\"].reshape(1, -1))\n",
    "most_sim_emb = ru_emb.most_similar(august, 10)\n",
    "most_sim_emb"
   ]
  },
  {
   "cell_type": "markdown",
   "metadata": {
    "id": "93yScRd5WOS9"
   },
   "source": [
    "We can see that neighbourhood of this embedding cosists of different months, but right variant is on the ninth place."
   ]
  },
  {
   "cell_type": "markdown",
   "metadata": {
    "id": "orMYreqjWOS9"
   },
   "source": [
    "As quality measure we will use precision top-1, top-5 and top-10 (for each transformed Ukrainian embedding we count how many right target pairs are found in top N nearest neighbours in Russian embedding space)."
   ]
  },
  {
   "cell_type": "code",
   "execution_count": 68,
   "metadata": {
    "id": "ZrVRND3bWOS9"
   },
   "outputs": [],
   "source": [
    "def precision(pairs, mapped_vectors, topn=1):\n",
    "    \"\"\"\n",
    "    :args:\n",
    "        pairs = list of right word pairs [(uk_word_0, ru_word_0), ...]\n",
    "        mapped_vectors = list of embeddings after mapping from source embedding space to destination embedding space\n",
    "        topn = the number of nearest neighbours in destination embedding space to choose from\n",
    "    :returns:\n",
    "        precision_val, float number, total number of words for those we can find right translation at top K.\n",
    "    \"\"\"\n",
    "    assert len(pairs) == len(mapped_vectors)\n",
    "    num_matches = 0\n",
    "    for i, (_, ru) in enumerate(pairs):\n",
    "        ru_translate = ru_emb.most_similar(mapped_vectors[i])\n",
    "        for j in range(topn):\n",
    "            if ru_translate[j][0] == ru:\n",
    "                num_matches += 1\n",
    "    precision_val = num_matches / len(pairs)\n",
    "    return precision_val\n"
   ]
  },
  {
   "cell_type": "code",
   "execution_count": 69,
   "metadata": {},
   "outputs": [
    {
     "data": {
      "text/plain": [
       "1.0"
      ]
     },
     "execution_count": 69,
     "metadata": {},
     "output_type": "execute_result"
    }
   ],
   "source": [
    "precision([(\"серпень\", \"август\")], august, topn=9)"
   ]
  },
  {
   "cell_type": "code",
   "execution_count": 65,
   "metadata": {},
   "outputs": [],
   "source": [
    "assert precision([(\"серпень\", \"август\")], august, topn=5) == 0.0\n",
    "assert precision([(\"серпень\", \"август\")], august, topn=9) == 1.0\n",
    "assert precision([(\"серпень\", \"август\")], august, topn=10) == 1.0"
   ]
  },
  {
   "cell_type": "code",
   "execution_count": 66,
   "metadata": {
    "id": "XEo_P0RnWOS9"
   },
   "outputs": [],
   "source": [
    "assert precision(uk_ru_test, X_test) == 0.0\n",
    "assert precision(uk_ru_test, Y_test) == 1.0"
   ]
  },
  {
   "cell_type": "code",
   "execution_count": 70,
   "metadata": {
    "id": "M36JkO3RWOS9"
   },
   "outputs": [
    {
     "ename": "AssertionError",
     "evalue": "",
     "output_type": "error",
     "traceback": [
      "\u001b[0;31m---------------------------------------------------------------------------\u001b[0m",
      "\u001b[0;31mAssertionError\u001b[0m                            Traceback (most recent call last)",
      "Cell \u001b[0;32mIn[70], line 5\u001b[0m\n\u001b[1;32m      2\u001b[0m precision_top5 \u001b[38;5;241m=\u001b[39m precision(uk_ru_test, mapping\u001b[38;5;241m.\u001b[39mpredict(X_test), \u001b[38;5;241m5\u001b[39m)\n\u001b[1;32m      4\u001b[0m \u001b[38;5;28;01massert\u001b[39;00m precision_top1 \u001b[38;5;241m>\u001b[39m\u001b[38;5;241m=\u001b[39m \u001b[38;5;241m0.635\u001b[39m\n\u001b[0;32m----> 5\u001b[0m \u001b[38;5;28;01massert\u001b[39;00m precision_top5 \u001b[38;5;241m>\u001b[39m\u001b[38;5;241m=\u001b[39m \u001b[38;5;241m0.813\u001b[39m\n",
      "\u001b[0;31mAssertionError\u001b[0m: "
     ]
    }
   ],
   "source": [
    "precision_top1 = precision(uk_ru_test, mapping.predict(X_test), 1)\n",
    "precision_top5 = precision(uk_ru_test, mapping.predict(X_test), 5)\n",
    "\n",
    "assert precision_top1 >= 0.635\n",
    "assert precision_top5 >= 0.813"
   ]
  },
  {
   "cell_type": "markdown",
   "metadata": {
    "id": "dPfBaaUaWOS9"
   },
   "source": [
    "## Making it better (orthogonal Procrustean problem)"
   ]
  },
  {
   "cell_type": "markdown",
   "metadata": {
    "id": "ncZJKIxsWOS-"
   },
   "source": [
    "It can be shown (see original paper) that a self-consistent linear mapping between semantic spaces should be orthogonal.\n",
    "We can restrict transform $W$ to be orthogonal. Then we will solve next problem:\n",
    "\n",
    "$$W^*= \\arg\\min_W ||WX - Y||_F \\text{, where: } W^TW = I$$\n",
    "\n",
    "$$I \\text{- identity matrix}$$\n",
    "\n",
    "Instead of making yet another regression problem we can find optimal orthogonal transformation using singular value decomposition. It turns out that optimal transformation $W^*$ can be expressed via SVD components:\n",
    "$$X^TY=U\\Sigma V^T\\text{, singular value decompostion}$$\n",
    "$$W^*=UV^T$$"
   ]
  },
  {
   "cell_type": "code",
   "execution_count": 79,
   "metadata": {
    "id": "cn7airF5WOS-"
   },
   "outputs": [],
   "source": [
    "import numpy as np\n",
    "from scipy.linalg import svd\n",
    "\n",
    "def learn_transform(X_train, Y_train):\n",
    "    \"\"\"\n",
    "    :returns: W* : float matrix[emb_dim x emb_dim] as defined in formulae above\n",
    "    \"\"\"\n",
    "    C = X_train.T @ Y_train\n",
    "    U, _, Vt = svd(C)\n",
    "    W = U @ Vt\n",
    "    return W"
   ]
  },
  {
   "cell_type": "code",
   "execution_count": 80,
   "metadata": {
    "id": "j5topp8_WOS-"
   },
   "outputs": [],
   "source": [
    "W = learn_transform(X_train, Y_train)"
   ]
  },
  {
   "cell_type": "code",
   "execution_count": 81,
   "metadata": {
    "id": "2shWxK8yWOS-"
   },
   "outputs": [
    {
     "data": {
      "text/plain": [
       "[('апрель', 0.8237906694412231),\n",
       " ('сентябрь', 0.8049715161323547),\n",
       " ('март', 0.802565336227417),\n",
       " ('июнь', 0.8021844029426575),\n",
       " ('октябрь', 0.800173819065094),\n",
       " ('ноябрь', 0.7934483885765076),\n",
       " ('февраль', 0.7914121150970459),\n",
       " ('июль', 0.7908109426498413),\n",
       " ('август', 0.7891019582748413),\n",
       " ('декабрь', 0.7686373591423035)]"
      ]
     },
     "execution_count": 81,
     "metadata": {},
     "output_type": "execute_result"
    }
   ],
   "source": [
    "ru_emb.most_similar([np.matmul(uk_emb[\"серпень\"], W)])"
   ]
  },
  {
   "cell_type": "code",
   "execution_count": 82,
   "metadata": {
    "id": "HPbm0EwjWOS-"
   },
   "outputs": [],
   "source": [
    "assert precision(uk_ru_test, np.matmul(X_test, W)) >= 0.653\n",
    "assert precision(uk_ru_test, np.matmul(X_test, W), 5) >= 0.824"
   ]
  },
  {
   "cell_type": "markdown",
   "metadata": {
    "id": "tcB-lV9RWOTC"
   },
   "source": [
    "## UK-RU Translator"
   ]
  },
  {
   "cell_type": "markdown",
   "metadata": {
    "id": "icIfshwIWOTD"
   },
   "source": [
    "Now we are ready to make simple word-based translator: for each word in source language in shared embedding space we find the nearest in target language.\n"
   ]
  },
  {
   "cell_type": "code",
   "execution_count": 83,
   "metadata": {
    "id": "USAgHVDYWOTD"
   },
   "outputs": [],
   "source": [
    "with open(\"fairy_tale.txt\", \"r\") as inpf:\n",
    "    uk_sentences = [line.rstrip().lower() for line in inpf]"
   ]
  },
  {
   "cell_type": "code",
   "execution_count": 118,
   "metadata": {
    "id": "UavKJyh1WOTD"
   },
   "outputs": [],
   "source": [
    "def translate(sentence):\n",
    "    \"\"\"\n",
    "    :args:\n",
    "        sentence - sentence in Ukrainian (str)\n",
    "    :returns:\n",
    "        translation - sentence in Russian (str)\n",
    "\n",
    "    * find ukrainian embedding for each word in sentence\n",
    "    * transform ukrainian embedding vector\n",
    "    * find nearest russian word and replace\n",
    "    \"\"\"\n",
    "    \n",
    "    words_from_sentence = sentence.split()\n",
    "    translate_sentence = []\n",
    "    for word in words_from_sentence:\n",
    "        try:\n",
    "            uk_emb_word = uk_emb[word.strip()]\n",
    "        except KeyError:\n",
    "            translate_sentence.append(word)\n",
    "            continue\n",
    "        ru_emb_word = np.matmul(uk_emb_word, W)\n",
    "        translate_sentence.append(ru_emb.most_similar(ru_emb_word)[0][0])\n",
    "\n",
    "    return \" \".join(translate_sentence)\n"
   ]
  },
  {
   "cell_type": "code",
   "execution_count": 119,
   "metadata": {},
   "outputs": [
    {
     "data": {
      "text/plain": [
       "'.'"
      ]
     },
     "execution_count": 119,
     "metadata": {},
     "output_type": "execute_result"
    }
   ],
   "source": [
    "translate(\".\") "
   ]
  },
  {
   "cell_type": "code",
   "execution_count": 120,
   "metadata": {
    "id": "tLailK7TWOTD"
   },
   "outputs": [],
   "source": [
    "assert translate(\".\") == \".\"\n",
    "assert translate(\"1 , 3\") == \"1 , 3\"\n",
    "assert translate(\"кіт зловив мишу\") == \"кот поймал мышку\""
   ]
  },
  {
   "cell_type": "code",
   "execution_count": 121,
   "metadata": {
    "id": "_v2vq-ssWOTD"
   },
   "outputs": [
    {
     "name": "stdout",
     "output_type": "stream",
     "text": [
      "src: лисичка - сестричка і вовк - панібрат\n",
      "dst: лисичка – сестричка и волк – панібрат\n",
      "\n",
      "src: як була собі лисичка та зробила хатку, та й живе. а це приходять холоди. от лисичка замерзла та й побігла в село вогню добувать, щоб витопити. прибігає до одної баби та й каже:\n",
      "dst: как была себе лисичка и сделала хатку, и и живе. а оно приходят холоди. из лисичка замерзла и и побежала во село огня добувать, чтобы витопити. прибегает к одной бабы и и каже:\n",
      "\n",
      "src: — здорові були, бабусю! з неділею... позичте мені огню, я вам одслужу.\n",
      "dst: — здоровые були, бабусю! со неділею... позичте мне огню, мной тебе одслужу.\n",
      "\n",
      "src: — добре, — каже, — лисичко - сестричко. сідай погрійся трохи, поки я пиріжечки повибираю з печі!\n",
      "dst: — добре, — каже, — лисичко – сестричко. садись погрійся трохи, пока мной пирожки повибираю со печі!\n",
      "\n",
      "src: а баба макові пиріжки пекла. от баба вибирає пиріжки та на столі кладе, щоб прохололи; а лисичка підгляділа та за пиріг, та з хати... виїла мачок із середини, а туди напхала сміттячка, стулила та й біжить.\n",
      "dst: а бабка маковые пирожки пекла. из бабка выбирает пирожки и по столе кладе, чтобы прохололи; а лисичка підгляділа и за пиріг, и со хати... виїла мачок со середини, а туда напхала сміттячка, стулила и и біжить.\n",
      "\n",
      "src: от біжить, а хлопці товар женуть до води.\n",
      "dst: из біжить, а парни товар гонят к воды\n",
      "\n",
      "src: — здорові були, хлопці!\n",
      "dst: — здоровые були, хлопці!\n",
      "\n",
      "src: — здорова, лисичко - сестричко!\n",
      "dst: — здорова, лисичко – сестричко!\n",
      "\n",
      "src: — проміняйте мені бичка - третячка на маковий пиріжок!\n",
      "dst: — проміняйте мне бычка – третячка по маковый пиріжок!\n",
      "\n",
      "src: — добре, — кажуть.\n",
      "dst: — добре, — кажуть.\n",
      "\n",
      "src: — тільки, — каже, — тепер не їжте, а як я вибіжу з села, то тоді.\n",
      "dst: — тільки, — каже, — теперь не їжте, а как мной вибіжу со села, то тоді.\n",
      "\n",
      "src: от помінялись. лисичка за бичка — та в ліс. а хлопці до пиріжка — а там сміттянко.\n",
      "dst: из помінялись. лисичка за бычка — и во сельско а парни к пирожка — а там сміттянко.\n",
      "\n",
      "src: от прибігла лисичка до своєї хатки, вирубала дерево, зробила санки, запрягла бичка — іде. аж біжить вовк:\n",
      "dst: из прибежала лисичка к своего хатки, вирубала дерево, сделала санки, запрягла бычка — іде. аж бежит вовк:\n",
      "\n",
      "src: — здорова, лисичко - сестричко!\n",
      "dst: — здорова, лисичко – сестричко!\n",
      "\n",
      "src: — здоров, вовчику - братику!\n",
      "dst: — здоров, вовчику – братику!\n",
      "\n",
      "src: — де ти взяла бичка - третячка і санки?\n",
      "dst: — куда ты взяла бычка – третячка и санки?\n",
      "\n",
      "src: — зробила собі!\n",
      "dst: — сделала собі!\n",
      "\n",
      "src: — підвези ж, — каже, — мене, лисичко - сестричко!\n",
      "dst: — підвези ж, — каже, — мене, лисичко – сестричко!\n",
      "\n",
      "src: — е, куди я тебе візьму? ти мені й санки поламаєш!\n",
      "dst: — е, куда мной тебя візьму? ты мне и санки поламаєш!\n",
      "\n",
      "src: — ні, — каже, — я тільки одну ніжку положу.\n",
      "dst: — ні, — каже, — мной только одну ножку положу.\n",
      "\n",
      "src: — ну, клади!\n",
      "dst: — ну, клади!\n",
      "\n",
      "src: от од’їхали трохи, вовк і каже:\n",
      "dst: из од’їхали трохи, волк и каже:\n",
      "\n",
      "src: — положу я, лисичко - сестричко, й другу ніжку!\n",
      "dst: — положу я, лисичко – сестричко, и вторую ніжку!\n",
      "\n",
      "src: — е, вовчику - братику, ти мені й санки поламаєш!\n",
      "dst: — е, вовчику – братику, ты мне и санки поламаєш!\n",
      "\n",
      "src: — ні, — каже, — не поламаю!\n",
      "dst: — ні, — каже, — не поламаю!\n",
      "\n",
      "src: — ну, клади!\n",
      "dst: — ну, клади!\n",
      "\n",
      "src: вовк і положив. ідуть, їдуть, коли це щось — трісь.\n",
      "dst: волк и положив. ідуть, їдуть, когда оно что-то — трісь.\n",
      "\n",
      "src: — е, вовчику - братику, ти мені вже й санки ламаєш!\n",
      "dst: — е, вовчику – братику, ты мне уже и санки ламаєш!\n",
      "\n",
      "src: — ні лисичко - сестричко, то я орішок розкусив.\n",
      "dst: — ни лисичко – сестричко, то мной орішок розкусив.\n",
      "\n",
      "src: — ну, гляди!\n",
      "dst: — ну, гляди!\n",
      "\n",
      "src: от їдуть...\n",
      "dst: из їдуть...\n",
      "\n",
      "src: — положу я, лисичко - сестричко, й третю ніжку! — каже вовк.\n",
      "dst: — положу я, лисичко – сестричко, и третью ніжку! — говорит вовк.\n",
      "\n",
      "src: — куди ти положиш? ти мені санки поламаєш! чим я тоді дровець привезу?\n",
      "dst: — куда ты положиш? ты мне санки поламаєш! Чем мной тогда дровець привезу?\n",
      "\n",
      "src: — ні, — каже, — не поламаю.\n",
      "dst: — ні, — каже, — не поламаю.\n",
      "\n",
      "src: — ну, клади.\n",
      "dst: — ну, клади.\n",
      "\n",
      "src: вовк положив і третю ногу. коли це — трісь!\n",
      "dst: волк положил и третью ногу. когда оно — трісь!\n",
      "\n",
      "src: — ой лихо! — каже лисичка. — йди собі геть, вовчику, — ти мені зовсім санки поламаєш.\n",
      "dst: — ой лихо! — говорит лисичка. — иди себе геть, вовчику, — ты мне совсем санки поламаєш.\n",
      "\n",
      "src: — ні, то я орішок розкусив!\n",
      "dst: — ні, то мной орішок розкусив!\n",
      "\n",
      "src: — дай же й мені!\n",
      "dst: — дай то и мені!\n",
      "\n",
      "src: — нема, — каже, — останній!\n",
      "dst: — нема, — каже, — останній!\n",
      "\n",
      "src: їдуть собі та й їдуть; вовчик і каже:\n",
      "dst: едут себе и и їдуть; вовчик и каже:\n",
      "\n",
      "src: — сяду я зовсім, лисичко!\n",
      "dst: — сяду мной зовсім, лисичко!\n",
      "\n",
      "src: — куди ти сядеш, вовчику - братику? і санки розламаєш!\n",
      "dst: — куда ты сядеш, вовчику – братику? и санки розламаєш!\n",
      "\n",
      "src: — я помаленьку, — каже.\n",
      "dst: — мной помаленьку, — каже.\n",
      "\n",
      "src: — ну, гляди!\n",
      "dst: — ну, гляди!\n",
      "\n",
      "src: от вовчик тільки що сів, а санки так і розпались... лисичка тоді давай його лаять! лаяла - лаяла та й каже:\n",
      "dst: из вовчик только что сів, а санки так и розпались... лисичка тогда давай его лаять! ругала – ругала и и каже:\n",
      "\n",
      "src: — піди ж, сякий - такий сину, дровець нарубай і на санки вирубай, і приволочи!\n",
      "dst: — пойди ж, сякий – такой сину, дровець нарубай и по санки вирубай, и приволочи!\n",
      "\n",
      "src: — як же я, — каже вовчик, — вирубаю, коли я не знаю, якого дерева?\n",
      "dst: — как то я, — говорит вовчик, — вирубаю, когда мной не знаю, которого дерева?\n",
      "\n",
      "src: — е, — сякий - такий сину! як санчата ламать, так і знав, а дровець вирубать, то й ні!\n",
      "dst: — е, — сякий – такой сину! как санки ламать, так и знав, а дровець вирубать, то и ні!\n",
      "\n",
      "src: коришувала його, коришувала...\n",
      "dst: коришувала його, коришувала...\n",
      "\n",
      "src: — як увійдеш, — каже, — в ліс, то кажи: « рубайся, дерево, й пряме, й криве! рубайся, дерево, й пряме, й криве! »\n",
      "dst: — как увійдеш, — каже, — во ліс, то кажи: « рубайся, дерево, и пряме, и криве! рубайся, дерево, и пряме, и криве! »\n",
      "\n",
      "src: вовк і пішов.\n",
      "dst: волк и пішов.\n",
      "\n",
      "src: от приходить в ліс та й каже:\n",
      "dst: из приходит во лес и и каже:\n",
      "\n",
      "src: — рубайся, дерево, криве й криве!\n",
      "dst: — рубайся, дерево, кривое и криве!\n",
      "\n",
      "src: дерево й нарубалось. таке корячкувате, що й на палицю не вибереш — не то на полозок! приносить вовчик до лисички те дерево. вона як подивилась, давай його знов батькувати.\n",
      "dst: дерево и нарубалось. такое корячкувате, что и по палку не выберешь — не то по полозок! приносит вовчик к лисички что дерево. она как подивилась, давай его снова батькувати.\n",
      "\n",
      "src: — ти, — каже, — сякий - такий сину, не так казав, як я тобі веліла!\n",
      "dst: — ти, — каже, — сякий – такой сину, не так казав, как мной тебе веліла!\n",
      "\n",
      "src: — ні, лисичко - сестричко, я, — каже, — стояв та все казав: « рубайся, дерево, криве й криве! »\n",
      "dst: — ні, лисичко – сестричко, я, — каже, — стоял и всё казав: « рубайся, дерево, кривое и криве! »\n",
      "\n",
      "src: — е, бісів сину, й того недотепний! ну, сиди ж ти тут, — я сама піду нарубаю.\n",
      "dst: — е, бесов сину, и того недотепний! ну, сиди же ты тут, — мной сама пойду нарубаю.\n",
      "\n",
      "src: та й пішла.\n",
      "dst: и и пішла.\n",
      "\n",
      "src: от сидить вовк сам собі — так їсти хочеться! він думав - думав: « давай, — каже, — з’їм бичка та й утечу! » от взяв проїв дірку у бичка, із середини все виїв, а туди горобців напустив і соломою заткнув, а сам — драла... приходить лисичка, зробила санчата, сіла...\n",
      "dst: из сидит волк сам себе — так кушать хочеться! он думал – думав: « давай, — каже, — з’їм бычка и и утечу! » из взял проїв дыру во бичка, со середины всё виїв, а туда воробьёв напустил и соломой заткнув, а сам — драла... приходит лисичка, сделала санчата, сіла...\n",
      "\n",
      "src: — гей, бичок - третячок!\n",
      "dst: — гей, бычок – третячок!\n",
      "\n",
      "src: аж бичок не везе. вона його батогом. як ударила, а віхоть соломи й випав; а горобці — хррр!\n",
      "dst: аж бычок не везе. она его батогом. как ударила, а віхоть соломы и випав; а воробьи — хррр!\n",
      "\n",
      "src: — а, сякий - такий вовчик! постій же, — каже, — я тобі згадаю!\n",
      "dst: — а, сякий – такой вовчик! постой же, — каже, — мной тебе згадаю!\n",
      "\n",
      "src: та й пішла...\n",
      "dst: и и пішла...\n",
      "\n",
      "src: лягла на шляху та й лежить. ідуть чумаки з рибою; вона притаїлась, мов нежива. чумаки дивляться — аж лисиця:\n",
      "dst: легла по пути и и лежить. идут казаки со рибою; она притаїлась, языки нежива. казаки смотрят — аж лисиця:\n",
      "\n",
      "src: — візьмім, — кажуть, — бра, та продамо — буде за що хоч погрітися!\n",
      "dst: — візьмім, — кажуть, — бра, и продадим — будет за что хоть погрітися!\n",
      "\n",
      "src: скинули її на останній віз та й поїхали. ідуть та й їдуть. а лисичка - сестричка бачить, що вони не дивляться, та все кида по рибці на дорогу, все кида... от як накидала вже багато, тоді нишком і сама злізла. чумаки ж поїхали собі далі, а вона позбирала рибку, сіла та й їсть.\n",
      "dst: сбросили ей по последний визы и и поїхали. идут и и їдуть. а лисичка – сестричка бачить, что они не дивляться, и всё кида по рыбки по дорогу, всё кида... из как навязала уже багато, тогда втихаря и сама злізла. казаки же поехали себе далі, а она позбирала рибку, присела и и їсть.\n",
      "\n",
      "src: коли це біжить вовчик:\n",
      "dst: когда оно бежит вовчик:\n",
      "\n",
      "src: — здорова була, лисичко - сестричко!\n",
      "dst: — здоровая була, лисичко – сестричко!\n",
      "\n",
      "src: — здоров, вовчику - братику!\n",
      "dst: — здоров, вовчику – братику!\n",
      "\n",
      "src: — що ти робиш, лисичко - сестричко?\n",
      "dst: — что ты робиш, лисичко – сестричко?\n",
      "\n",
      "src: — рибу, — каже, — їм.\n",
      "dst: — рибу, — каже, — їм.\n",
      "\n",
      "src: — дай же й мені!\n",
      "dst: — дай то и мені!\n",
      "\n",
      "src: — піди собі налови.\n",
      "dst: — пойди себе налови.\n",
      "\n",
      "src: — так як же я наловлю, коли я не вмію?\n",
      "dst: — так как то мной наловлю, когда мной не вмію?\n",
      "\n",
      "src: — ну, як знаєш, а я не дам і кісточки!\n",
      "dst: — ну, как знаєш, а мной не дам и кісточки!\n",
      "\n",
      "src: — так хоч навчи мене, як наловить.\n",
      "dst: — так хоть научить мене, как наловить.\n",
      "\n",
      "src: а лисичка й дума: « постій же! ти мого бичка - третячка з’їв — я тепер тобі оддячу! »\n",
      "dst: а лисичка и дума: « постой же! ты моего бычка – третячка з’їв — мной теперь тебе оддячу! »\n",
      "\n",
      "src: — а так, — каже, — піди до ополонки, устроми в ополонку хвіст та потихеньку води ним і приказуй: « ловись, рибко, мала й велика! ловись, рибко, мала й велика! » то вона й наловиться.\n",
      "dst: — а так, — каже, — пойди к ополонки, устроми во прорубь хвост и потихоньку воды ним и приказуй: « ловись, рибко, имела и велика! ловись, рибко, имела и велика! » то она и наловиться.\n",
      "\n",
      "src: — ну, спасибі за науку! — каже вовчик.\n",
      "dst: — ну, спасибо за науку! — говорит вовчик.\n",
      "\n",
      "src: от прибігає вовчик до ополонки, устромив в ополонку хвіст:\n",
      "dst: из прибегает вовчик к ополонки, устромив во прорубь хвіст:\n",
      "\n",
      "src: — ловись, — каже, — рибко, мала й велика!\n",
      "dst: — ловись, — каже, — рибко, имела и велика!\n",
      "\n",
      "src: а лисичка з очерету:\n",
      "dst: а лисичка со очерету:\n",
      "\n",
      "src: — мерзни, мерзни, вовчий хвіст!\n",
      "dst: — мерзни, мерзни, волчий хвіст!\n",
      "\n",
      "src: а мороз надворі такий, що аж шкварчить! вовчик хвостиком усе водить та:\n",
      "dst: а мороз дворе такий, что аж шкварчить! вовчик хвостиком всё водит та:\n",
      "\n",
      "src: — ловись, рибко, мала й велика!\n",
      "dst: — ловись, рибко, имела и велика!\n",
      "\n",
      "src: а лисичка:\n",
      "dst: а лисичка:\n",
      "\n",
      "src: — мерзни, мерзни, вовчий хвіст!\n",
      "dst: — мерзни, мерзни, волчий хвіст!\n",
      "\n",
      "src: поки ловив вовчик рибу, поки хвіст так і прикипів в ополонці! тоді лисичка в село:\n",
      "dst: пока ловил вовчик рибу, пока хвост так и пугаясь во ополонці! тогда лисичка во село:\n",
      "\n",
      "src: — ідіть, люди, вовка бить!\n",
      "dst: — ідіть, люди, волка бить!\n",
      "\n",
      "src: люди як вискочать — з кочергами, з рогачами, із сокирами: вбили того вовка і пропав бідний! а лисичка й досі живе у своїй хатці.\n",
      "dst: люди как вискочать — со кочергами, со рогачами, со сокирами: убили того волка и пропал бідний! а лисичка и сих живет во своей хатці.\n",
      "\n"
     ]
    }
   ],
   "source": [
    "for sentence in uk_sentences:\n",
    "    print(\"src: {}\\ndst: {}\\n\".format(sentence, translate(sentence)))"
   ]
  },
  {
   "cell_type": "markdown",
   "metadata": {
    "id": "4TTYtVa8WOTD"
   },
   "source": [
    "Not so bad, right? We can easily improve translation using language model and not one but several nearest neighbours in shared embedding space. But next time."
   ]
  },
  {
   "cell_type": "markdown",
   "metadata": {
    "id": "KryMl0zBWOTD"
   },
   "source": [
    "## Would you like to learn more?\n",
    "\n",
    "### Articles:\n",
    "* [Exploiting Similarities among Languages for Machine Translation](https://arxiv.org/pdf/1309.4168)  - entry point for multilingual embedding studies by Tomas Mikolov (the author of W2V)\n",
    "* [Offline bilingual word vectors, orthogonal transformations and the inverted softmax](https://arxiv.org/pdf/1702.03859) - orthogonal transform for unsupervised MT\n",
    "* [Word Translation Without Parallel Data](https://arxiv.org/pdf/1710.04087)\n",
    "* [Loss in Translation: Learning Bilingual Word Mapping with a Retrieval Criterion](https://arxiv.org/pdf/1804.07745)\n",
    "* [Unsupervised Alignment of Embeddings with Wasserstein Procrustes](https://arxiv.org/pdf/1805.11222)\n",
    "\n",
    "### Repos (with ready-to-use multilingual embeddings):\n",
    "* https://github.com/facebookresearch/MUSE\n",
    "\n",
    "* https://github.com/Babylonpartners/fastText_multilingual -"
   ]
  }
 ],
 "metadata": {
  "colab": {
   "provenance": []
  },
  "kernelspec": {
   "display_name": "main_ml_venv",
   "language": "python",
   "name": "python3"
  },
  "language_info": {
   "codemirror_mode": {
    "name": "ipython",
    "version": 3
   },
   "file_extension": ".py",
   "mimetype": "text/x-python",
   "name": "python",
   "nbconvert_exporter": "python",
   "pygments_lexer": "ipython3",
   "version": "3.10.12"
  }
 },
 "nbformat": 4,
 "nbformat_minor": 0
}
