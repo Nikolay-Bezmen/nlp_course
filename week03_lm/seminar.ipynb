{
 "cells": [
  {
   "cell_type": "markdown",
   "metadata": {
    "cellId": "k1gpzj4guo8e1riwj3om1k"
   },
   "source": [
    "### N-gram language models or how to write scientific papers (4 pts)\n",
    "\n",
    "We shall train our language model on a corpora of [ArXiv](http://arxiv.org/) articles and see if we can generate a new one!\n",
    "\n",
    "![img](https://media.npr.org/assets/img/2013/12/10/istock-18586699-monkey-computer_brick-16e5064d3378a14e0e4c2da08857efe03c04695e-s800-c85.jpg)\n",
    "\n",
    "_data by neelshah18 from [here](https://www.kaggle.com/neelshah18/arxivdataset/)_\n",
    "\n",
    "_Disclaimer: this has nothing to do with actual science. But it's fun, so who cares?!_"
   ]
  },
  {
   "cell_type": "code",
   "execution_count": 1,
   "metadata": {
    "cellId": "u8jdaiy68oib3jvr4k01"
   },
   "outputs": [],
   "source": [
    "import numpy as np\n",
    "import pandas as pd\n",
    "import matplotlib.pyplot as plt\n",
    "%matplotlib inline"
   ]
  },
  {
   "cell_type": "code",
   "execution_count": 2,
   "metadata": {
    "cellId": "0c76vnyl3zui9yhtkodgrlf"
   },
   "outputs": [
    {
     "name": "stdout",
     "output_type": "stream",
     "text": [
      "--2024-11-27 12:30:06--  https://www.dropbox.com/s/99az9n1b57qkd9j/arxivData.json.tar.gz?dl=1\n",
      "Распознаётся www.dropbox.com (www.dropbox.com)… 162.125.80.18, 2620:100:6021:18::a27d:4112\n",
      "Подключение к www.dropbox.com (www.dropbox.com)|162.125.80.18|:443... соединение установлено.\n",
      "HTTP-запрос отправлен. Ожидание ответа… 302 Found\n",
      "Адрес: https://www.dropbox.com/scl/fi/0mulrothty5o8i8ud9gz2/arxivData.json.tar.gz?rlkey=n759u5qx2xpxxglmrl390vwvk&dl=1 [переход]\n",
      "--2024-11-27 12:30:08--  https://www.dropbox.com/scl/fi/0mulrothty5o8i8ud9gz2/arxivData.json.tar.gz?rlkey=n759u5qx2xpxxglmrl390vwvk&dl=1\n",
      "Повторное использование соединения с www.dropbox.com:443.\n",
      "HTTP-запрос отправлен. Ожидание ответа… 302 Found\n",
      "Адрес: https://uc305df56ddda159494d27e31140.dl.dropboxusercontent.com/cd/0/inline/CfLPFAFwLG_LzxMQAffGbh6XgJwPejoxMt5kTH9rpEyljSpm2xoLZpuXo57DsIwD7AZv_8uNBhy8O6G0JufXojdl0WqmK4XcLYuSYJdQqXvPoZKZSlfrlqVOlLczxQ0UlqQ/file?dl=1# [переход]\n",
      "--2024-11-27 12:30:09--  https://uc305df56ddda159494d27e31140.dl.dropboxusercontent.com/cd/0/inline/CfLPFAFwLG_LzxMQAffGbh6XgJwPejoxMt5kTH9rpEyljSpm2xoLZpuXo57DsIwD7AZv_8uNBhy8O6G0JufXojdl0WqmK4XcLYuSYJdQqXvPoZKZSlfrlqVOlLczxQ0UlqQ/file?dl=1\n",
      "Распознаётся uc305df56ddda159494d27e31140.dl.dropboxusercontent.com (uc305df56ddda159494d27e31140.dl.dropboxusercontent.com)… 162.125.80.15, 2620:100:6021:15::a27d:410f\n",
      "Подключение к uc305df56ddda159494d27e31140.dl.dropboxusercontent.com (uc305df56ddda159494d27e31140.dl.dropboxusercontent.com)|162.125.80.15|:443... соединение установлено.\n",
      "HTTP-запрос отправлен. Ожидание ответа… 302 Found\n",
      "Адрес: /cd/0/inline2/CfLrJ0WCgsM66oNDiNy-zqhA4iyj8wBkgwb_hr6W5deV2cBS3rS6PW0-1iiERsNSdniWlyELLiG30rJiCZVbmkVGRZwcRZXxQVaJ5aEmbXez-2kTxIC1KWv9pb3Fq1vqSuxvm99b8R0TY0fa7nA37trulIG6ZkRxAkgGZMTEFllwEXAEw-34SAC8wn13JI4GBjdNmuN2G0XiMyHh9I083dg-rDbHEFXzDEd7mfyDcJaDF38w6DbAuaUkEtFWxzZeuX01Cp7Hd9YVIGmcBydp824csZrp158pMmydtuziGpEpD-4RD4LX9xdsaCw8zV5TFFbC69NSAmFwni9GqiKb3_2aGxLS4gGPvE17s8k2gTEd_A/file?dl=1 [переход]\n",
      "--2024-11-27 12:30:11--  https://uc305df56ddda159494d27e31140.dl.dropboxusercontent.com/cd/0/inline2/CfLrJ0WCgsM66oNDiNy-zqhA4iyj8wBkgwb_hr6W5deV2cBS3rS6PW0-1iiERsNSdniWlyELLiG30rJiCZVbmkVGRZwcRZXxQVaJ5aEmbXez-2kTxIC1KWv9pb3Fq1vqSuxvm99b8R0TY0fa7nA37trulIG6ZkRxAkgGZMTEFllwEXAEw-34SAC8wn13JI4GBjdNmuN2G0XiMyHh9I083dg-rDbHEFXzDEd7mfyDcJaDF38w6DbAuaUkEtFWxzZeuX01Cp7Hd9YVIGmcBydp824csZrp158pMmydtuziGpEpD-4RD4LX9xdsaCw8zV5TFFbC69NSAmFwni9GqiKb3_2aGxLS4gGPvE17s8k2gTEd_A/file?dl=1\n",
      "Повторное использование соединения с uc305df56ddda159494d27e31140.dl.dropboxusercontent.com:443.\n",
      "HTTP-запрос отправлен. Ожидание ответа… 200 OK\n",
      "Длина: 18933283 (18M) [application/binary]\n",
      "Сохранение в: ‘arxivData.json.tar.gz’\n",
      "\n",
      "arxivData.json.tar. 100%[===================>]  18,06M  4,92MB/s    за 3,9s    \n",
      "\n",
      "2024-11-27 12:30:16 (4,68 MB/s) - ‘arxivData.json.tar.gz’ сохранён [18933283/18933283]\n",
      "\n",
      "arxivData.json\n"
     ]
    },
    {
     "data": {
      "text/html": [
       "<div>\n",
       "<style scoped>\n",
       "    .dataframe tbody tr th:only-of-type {\n",
       "        vertical-align: middle;\n",
       "    }\n",
       "\n",
       "    .dataframe tbody tr th {\n",
       "        vertical-align: top;\n",
       "    }\n",
       "\n",
       "    .dataframe thead th {\n",
       "        text-align: right;\n",
       "    }\n",
       "</style>\n",
       "<table border=\"1\" class=\"dataframe\">\n",
       "  <thead>\n",
       "    <tr style=\"text-align: right;\">\n",
       "      <th></th>\n",
       "      <th>author</th>\n",
       "      <th>day</th>\n",
       "      <th>id</th>\n",
       "      <th>link</th>\n",
       "      <th>month</th>\n",
       "      <th>summary</th>\n",
       "      <th>tag</th>\n",
       "      <th>title</th>\n",
       "      <th>year</th>\n",
       "    </tr>\n",
       "  </thead>\n",
       "  <tbody>\n",
       "    <tr>\n",
       "      <th>11275</th>\n",
       "      <td>[{'name': 'Alain Rakotomamonjy'}, {'name': 'Re...</td>\n",
       "      <td>2</td>\n",
       "      <td>1507.00438v1</td>\n",
       "      <td>[{'rel': 'alternate', 'href': 'http://arxiv.or...</td>\n",
       "      <td>7</td>\n",
       "      <td>We introduce a novel algorithm for solving lea...</td>\n",
       "      <td>[{'term': 'cs.LG', 'scheme': 'http://arxiv.org...</td>\n",
       "      <td>DC Proximal Newton for Non-Convex Optimization...</td>\n",
       "      <td>2015</td>\n",
       "    </tr>\n",
       "    <tr>\n",
       "      <th>33301</th>\n",
       "      <td>[{'name': 'Raphaël Cerf'}]</td>\n",
       "      <td>19</td>\n",
       "      <td>1005.3390v1</td>\n",
       "      <td>[{'rel': 'alternate', 'href': 'http://arxiv.or...</td>\n",
       "      <td>5</td>\n",
       "      <td>Based on speculations coming from statistical ...</td>\n",
       "      <td>[{'term': 'cs.NE', 'scheme': 'http://arxiv.org...</td>\n",
       "      <td>Critical control of a genetic algorithm</td>\n",
       "      <td>2010</td>\n",
       "    </tr>\n",
       "    <tr>\n",
       "      <th>37867</th>\n",
       "      <td>[{'name': 'Kristi Kuljus'}, {'name': 'Jüri Lem...</td>\n",
       "      <td>18</td>\n",
       "      <td>1002.3509v2</td>\n",
       "      <td>[{'rel': 'alternate', 'href': 'http://arxiv.or...</td>\n",
       "      <td>2</td>\n",
       "      <td>We consider the maximum likelihood (Viterbi) a...</td>\n",
       "      <td>[{'term': 'math.PR', 'scheme': 'http://arxiv.o...</td>\n",
       "      <td>Asymptotic risks of Viterbi segmentation</td>\n",
       "      <td>2010</td>\n",
       "    </tr>\n",
       "    <tr>\n",
       "      <th>28794</th>\n",
       "      <td>[{'name': 'Bruno Stuner'}, {'name': 'Clément C...</td>\n",
       "      <td>24</td>\n",
       "      <td>1707.07432v1</td>\n",
       "      <td>[{'rel': 'alternate', 'href': 'http://arxiv.or...</td>\n",
       "      <td>7</td>\n",
       "      <td>Offline handwritten text line recognition is a...</td>\n",
       "      <td>[{'term': 'cs.CV', 'scheme': 'http://arxiv.org...</td>\n",
       "      <td>LV-ROVER: Lexicon Verified Recognizer Output V...</td>\n",
       "      <td>2017</td>\n",
       "    </tr>\n",
       "    <tr>\n",
       "      <th>11256</th>\n",
       "      <td>[{'name': 'Colin H. LaMont'}, {'name': 'Paul A...</td>\n",
       "      <td>19</td>\n",
       "      <td>1506.05855v4</td>\n",
       "      <td>[{'rel': 'alternate', 'href': 'http://arxiv.or...</td>\n",
       "      <td>6</td>\n",
       "      <td>A central problem in statistics is model selec...</td>\n",
       "      <td>[{'term': 'stat.ML', 'scheme': 'http://arxiv.o...</td>\n",
       "      <td>Information-based inference for singular model...</td>\n",
       "      <td>2015</td>\n",
       "    </tr>\n",
       "  </tbody>\n",
       "</table>\n",
       "</div>"
      ],
      "text/plain": [
       "                                                  author  day            id  \\\n",
       "11275  [{'name': 'Alain Rakotomamonjy'}, {'name': 'Re...    2  1507.00438v1   \n",
       "33301                         [{'name': 'Raphaël Cerf'}]   19   1005.3390v1   \n",
       "37867  [{'name': 'Kristi Kuljus'}, {'name': 'Jüri Lem...   18   1002.3509v2   \n",
       "28794  [{'name': 'Bruno Stuner'}, {'name': 'Clément C...   24  1707.07432v1   \n",
       "11256  [{'name': 'Colin H. LaMont'}, {'name': 'Paul A...   19  1506.05855v4   \n",
       "\n",
       "                                                    link  month  \\\n",
       "11275  [{'rel': 'alternate', 'href': 'http://arxiv.or...      7   \n",
       "33301  [{'rel': 'alternate', 'href': 'http://arxiv.or...      5   \n",
       "37867  [{'rel': 'alternate', 'href': 'http://arxiv.or...      2   \n",
       "28794  [{'rel': 'alternate', 'href': 'http://arxiv.or...      7   \n",
       "11256  [{'rel': 'alternate', 'href': 'http://arxiv.or...      6   \n",
       "\n",
       "                                                 summary  \\\n",
       "11275  We introduce a novel algorithm for solving lea...   \n",
       "33301  Based on speculations coming from statistical ...   \n",
       "37867  We consider the maximum likelihood (Viterbi) a...   \n",
       "28794  Offline handwritten text line recognition is a...   \n",
       "11256  A central problem in statistics is model selec...   \n",
       "\n",
       "                                                     tag  \\\n",
       "11275  [{'term': 'cs.LG', 'scheme': 'http://arxiv.org...   \n",
       "33301  [{'term': 'cs.NE', 'scheme': 'http://arxiv.org...   \n",
       "37867  [{'term': 'math.PR', 'scheme': 'http://arxiv.o...   \n",
       "28794  [{'term': 'cs.CV', 'scheme': 'http://arxiv.org...   \n",
       "11256  [{'term': 'stat.ML', 'scheme': 'http://arxiv.o...   \n",
       "\n",
       "                                                   title  year  \n",
       "11275  DC Proximal Newton for Non-Convex Optimization...  2015  \n",
       "33301            Critical control of a genetic algorithm  2010  \n",
       "37867           Asymptotic risks of Viterbi segmentation  2010  \n",
       "28794  LV-ROVER: Lexicon Verified Recognizer Output V...  2017  \n",
       "11256  Information-based inference for singular model...  2015  "
      ]
     },
     "execution_count": 2,
     "metadata": {},
     "output_type": "execute_result"
    }
   ],
   "source": [
    "# Alternative manual download link: https://yadi.sk/d/_nGyU2IajjR9-w\n",
    "!wget \"https://www.dropbox.com/s/99az9n1b57qkd9j/arxivData.json.tar.gz?dl=1\" -O arxivData.json.tar.gz\n",
    "!tar -xvzf arxivData.json.tar.gz\n",
    "data = pd.read_json(\"./arxivData.json\")\n",
    "data.sample(n=5)"
   ]
  },
  {
   "cell_type": "code",
   "execution_count": 3,
   "metadata": {
    "cellId": "lbyqb5rx7j8jpo591r06ak"
   },
   "outputs": [
    {
     "data": {
      "text/plain": [
       "['Differential Contrastive Divergence ; This paper has been retracted.',\n",
       " 'What Does Artificial Life Tell Us About Death? ; Short philosophical essay',\n",
       " 'P=NP ; We claim to resolve the P=?NP problem via a formal argument for P=NP.']"
      ]
     },
     "execution_count": 3,
     "metadata": {},
     "output_type": "execute_result"
    }
   ],
   "source": [
    "# assemble lines: concatenate title and description\n",
    "lines = data.apply(lambda row: row['title'] + ' ; ' + row['summary'].replace(\"\\n\", ' '), axis=1).tolist()\n",
    "\n",
    "sorted(lines, key=len)[:3]"
   ]
  },
  {
   "cell_type": "markdown",
   "metadata": {
    "cellId": "7u97m5s8ekl5zd5a43a1yc"
   },
   "source": [
    "### Tokenization\n",
    "\n",
    "You know the dril. The data is messy. Go clean the data. Use WordPunctTokenizer or something.\n"
   ]
  },
  {
   "cell_type": "code",
   "execution_count": 9,
   "metadata": {
    "cellId": "u8rvfk719iek97t3rarwr"
   },
   "outputs": [],
   "source": [
    "# Task: convert lines (in-place) into strings of space-separated tokens. Import & use WordPunctTokenizer\n",
    "\n",
    "from nltk.tokenize import WordPunctTokenizer\n",
    "\n",
    "wp_tokenizer = WordPunctTokenizer()\n",
    "lines = [\" \".join(wp_tokenizer.tokenize(line)).lower() for line in lines]"
   ]
  },
  {
   "cell_type": "code",
   "execution_count": 10,
   "metadata": {},
   "outputs": [
    {
     "data": {
      "text/plain": [
       "['differential contrastive divergence ; this paper has been retracted .',\n",
       " 'what does artificial life tell us about death ? ; short philosophical essay',\n",
       " 'p = np ; we claim to resolve the p =? np problem via a formal argument for p = np .']"
      ]
     },
     "execution_count": 10,
     "metadata": {},
     "output_type": "execute_result"
    }
   ],
   "source": [
    "sorted(lines, key=len)[:3]"
   ]
  },
  {
   "cell_type": "code",
   "execution_count": 11,
   "metadata": {
    "cellId": "w88nddpp2k8edoeyyyjh0l"
   },
   "outputs": [],
   "source": [
    "assert sorted(lines, key=len)[0] == \\\n",
    "    'differential contrastive divergence ; this paper has been retracted .'\n",
    "assert sorted(lines, key=len)[2] == \\\n",
    "    'p = np ; we claim to resolve the p =? np problem via a formal argument for p = np .'"
   ]
  },
  {
   "cell_type": "markdown",
   "metadata": {
    "cellId": "qb6h3hxmr095egzv8rlzul"
   },
   "source": [
    "### N-Gram Language Model (1point)\n",
    "\n",
    "A language model is a probabilistic model that estimates text probability: the joint probability of all tokens $w_t$ in text $X$: $P(X) = P(w_1, \\dots, w_T)$.\n",
    "\n",
    "It can do so by following the chain rule:\n",
    "$$P(w_1, \\dots, w_T) = P(w_1)P(w_2 \\mid w_1)\\dots P(w_T \\mid w_1, \\dots, w_{T-1}).$$ \n",
    "\n",
    "The problem with such approach is that the final term $P(w_T \\mid w_1, \\dots, w_{T-1})$ depends on $n-1$ previous words. This probability is impractical to estimate for long texts, e.g. $T = 1000$.\n",
    "\n",
    "One popular approximation is to assume that next word only depends on a finite amount of previous words:\n",
    "\n",
    "$$P(w_t \\mid w_1, \\dots, w_{t - 1}) = P(w_t \\mid w_{t - n + 1}, \\dots, w_{t - 1})$$\n",
    "\n",
    "Such model is called __n-gram language model__ where n is a parameter. For example, in 3-gram language model, each word only depends on 2 previous words. \n",
    "\n",
    "$$\n",
    "    P(w_1, \\dots, w_n) = \\prod_t P(w_t \\mid w_{t - n + 1}, \\dots, w_{t - 1}).\n",
    "$$\n",
    "\n",
    "You can also sometimes see such approximation under the name of _n-th order markov assumption_."
   ]
  },
  {
   "cell_type": "markdown",
   "metadata": {
    "cellId": "u68wydbiioqlp5gl96mhd"
   },
   "source": [
    "The first stage to building such a model is counting all word occurences given N-1 previous words"
   ]
  },
  {
   "cell_type": "code",
   "execution_count": 32,
   "metadata": {},
   "outputs": [
    {
     "data": {
      "text/plain": [
       "('UNK', 'aaaaaaaa')"
      ]
     },
     "execution_count": 32,
     "metadata": {},
     "output_type": "execute_result"
    }
   ],
   "source": [
    "l = 'aaaaaaaa bbbbbb cccccccc ddddddd'\n",
    "i = 1\n",
    "n = 2\n",
    "ctp = tuple()\n",
    "\n",
    "if i < n:\n",
    "    ctp = ('UNK',) * (n - i)\n",
    "    ctp += tuple(tok for tok in l.split()[:i])\n",
    "    # for tok in l.split()[:i]:\n",
    "    #     ctp += (tok,)\n",
    "\n",
    "ctp\n"
   ]
  },
  {
   "cell_type": "code",
   "execution_count": 101,
   "metadata": {
    "cellId": "og84gjipnumsakhiiu9ap"
   },
   "outputs": [],
   "source": [
    "from tqdm import tqdm\n",
    "from collections import defaultdict, Counter\n",
    "\n",
    "# special tokens: \n",
    "# - `UNK` represents absent tokens, \n",
    "# - `EOS` is a special token after the end of sequence\n",
    "\n",
    "UNK, EOS = \"_UNK_\", \"_EOS_\"\n",
    "\n",
    "def count_ngrams(lines, n):\n",
    "    \"\"\"\n",
    "    Count how many times each word occured after (n - 1) previous words\n",
    "    :param lines: an iterable of strings with space-separated tokens\n",
    "    :returns: a dictionary { tuple(prefix_tokens): {next_token_1: count_1, next_token_2: count_2}}\n",
    "\n",
    "    When building counts, please consider the following two edge cases:\n",
    "    - if prefix is shorter than (n - 1) tokens, it should be padded with UNK. For n=3,\n",
    "      empty prefix: \"\" -> (UNK, UNK)\n",
    "      short prefix: \"the\" -> (UNK, the)\n",
    "      long prefix: \"the new approach\" -> (new, approach)\n",
    "    - you should add a special token, EOS, at the end of each sequence\n",
    "      \"... with deep neural networks .\" -> (..., with, deep, neural, networks, ., EOS)\n",
    "      count the probability of this token just like all others.\n",
    "    \"\"\"\n",
    "    counts = defaultdict(Counter)\n",
    "    # counts[(word1, word2)][word3] = how many times word3 occured after (word1, word2)\n",
    "\n",
    "    for line in lines:\n",
    "        tokens = line.split() + [EOS]\n",
    "        padding_tokens = [UNK] * (n-1) + tokens\n",
    "\n",
    "        for i in range(len(tokens)):\n",
    "            prefix = tuple(padding_tokens[i:i + n - 1])\n",
    "            word = tokens[i]\n",
    "\n",
    "            counts[prefix][word] += 1\n",
    "    \n",
    "    \n",
    "    return counts\n"
   ]
  },
  {
   "cell_type": "code",
   "execution_count": 102,
   "metadata": {
    "cellId": "xyf2he6lak9mmqarl3nck"
   },
   "outputs": [],
   "source": [
    "# let's test it\n",
    "dummy_lines = sorted(lines, key=len)[:100]\n",
    "dummy_counts = count_ngrams(dummy_lines, n=3)\n",
    "assert set(map(len, dummy_counts.keys())) == {2}, \"please only count {n-1}-grams\"\n",
    "assert len(dummy_counts[('_UNK_', '_UNK_')]) == 78\n",
    "assert dummy_counts['_UNK_', 'a']['note'] == 3\n",
    "assert dummy_counts['p', '=']['np'] == 2\n",
    "assert dummy_counts['author', '.']['_EOS_'] == 1"
   ]
  },
  {
   "cell_type": "markdown",
   "metadata": {
    "cellId": "4j620npeqvj0k8ak8xqx8xk"
   },
   "source": [
    "Once we can count N-grams, we can build a probabilistic language model.\n",
    "The simplest way to compute probabilities is in proporiton to counts:\n",
    "\n",
    "$$ P(w_t | prefix) = { Count(prefix, w_t) \\over \\sum_{\\hat w} Count(prefix, \\hat w) } $$"
   ]
  },
  {
   "cell_type": "code",
   "execution_count": 75,
   "metadata": {},
   "outputs": [
    {
     "data": {
      "text/plain": [
       "tuple"
      ]
     },
     "execution_count": 75,
     "metadata": {},
     "output_type": "execute_result"
    }
   ],
   "source": [
    "a = (\"bbbbb\", 'vvvvv')\n",
    "\" \".join(a)\n",
    "type(a)"
   ]
  },
  {
   "cell_type": "code",
   "execution_count": 84,
   "metadata": {},
   "outputs": [
    {
     "name": "stdout",
     "output_type": "stream",
     "text": [
      "('_UNK_', '_UNK_')\n",
      "Counter({'a': 278, 'p': 153, 'the': 127, 'in': 97, 'an': 76, 'on': 47, 'network': 18, 'learning': 13, 'are': 10, 'some': 6, 'deep': 5, 'recognition': 5, 'using': 5, 'complex': 4, 'introduction': 4, 'sat': 4, 'decision': 3, 'text': 3, 'entropy': 3, 'how': 3, 'time': 2, 'about': 2, 'convex': 2, 'calculate': 2, 'group': 2, 'cornell': 2, 'proceedings': 2, 'creating': 1, 'defeasible': 1, 'essence': 1, 'mining': 1, 'icon': 1, 'glottochronologic': 1, 'utility': 1, 'activitynet': 1, 'comments': 1, 'automatic': 1, 'resource': 1, 'advances': 1, 'quantified': 1, 'beyond': 1, 'norm': 1, 'unary': 1, 'why': 1, 'philosophy': 1, 'word': 1, 'attack': 1, 'defensive': 1, 'technical': 1, 'approximated': 1, 'solving': 1, 'agent': 1, 'differential': 0, 'what': 0, 'computational': 0, 'weak': 0, 'statistical': 0, 'serious': 0, 'preprocessing': 0, 'liquid': 0, 'towards': 0, 'temporized': 0, 'backpropagation': 0, 'random': 0, 'glottochronology': 0, 'convolutional': 0, 'fitness': 0, 'flip': 0, 'autonomous': 0, 'discrimination': 0, 'extraction': 0, 'exploration': 0, 'neurocontrol': 0, 'parallels': 0, 'guarded': 0, 'semistability': 0, 'standardization': 0, 'piecewise': 0})\n",
      "<class 'tuple'> <class 'collections.Counter'>\n"
     ]
    }
   ],
   "source": [
    "for prefix, count in dummy_counts.items():\n",
    "    print(prefix)\n",
    "    print(count)\n",
    "    print(type(prefix), type(count))\n",
    "    break"
   ]
  },
  {
   "cell_type": "code",
   "execution_count": 81,
   "metadata": {},
   "outputs": [
    {
     "data": {
      "text/plain": [
       "True"
      ]
     },
     "execution_count": 81,
     "metadata": {},
     "output_type": "execute_result"
    }
   ],
   "source": [
    "isinstance(\" \".join(list(dummy_counts.keys())[0]), str)"
   ]
  },
  {
   "cell_type": "code",
   "execution_count": null,
   "metadata": {
    "cellId": "c7cm76wmzlaa12bctznzei"
   },
   "outputs": [],
   "source": [
    "class NGramLanguageModel:    \n",
    "    def __init__(self, lines, n):\n",
    "        \"\"\" \n",
    "        Train a simple count-based language model: \n",
    "        compute probabilities P(w_t | prefix) given ngram counts\n",
    "        \n",
    "        :param n: computes probability of next token given (n - 1) previous words\n",
    "        :param lines: an iterable of strings with space-separated tokens\n",
    "        \"\"\"\n",
    "        assert n >= 1\n",
    "        self.n = n\n",
    "    \n",
    "        counts = count_ngrams(lines, self.n)\n",
    "        \n",
    "        # compute token proabilities given counts\n",
    "        self.probs = defaultdict(Counter)\n",
    "        # probs[(word1, word2)][word3] = P(word3 | word1, word2)\n",
    "        for prefix, word_dict in counts.items():\n",
    "            count_sum = sum(word_dict.values())\n",
    "            for word, count in word_dict.items():\n",
    "                self.probs[prefix][word] = (count) / (count_sum)\n",
    "        # populate self.probs with actual probabilities\n",
    "            \n",
    "    def get_possible_next_tokens(self, prefix):\n",
    "        \"\"\"\n",
    "        :param prefix: string with space-separated prefix tokens\n",
    "        :returns: a dictionary {token : it's probability} for all tokens with positive probabilities\n",
    "        \"\"\"\n",
    "        prefix = prefix.split()\n",
    "        prefix = prefix[max(0, len(prefix) - self.n + 1):]\n",
    "        prefix = [ UNK ] * (self.n - 1 - len(prefix)) + prefix\n",
    "        return self.probs[tuple(prefix)]\n",
    "    \n",
    "    def get_next_token_prob(self, prefix, next_token):\n",
    "        \"\"\"\n",
    "        :param prefix: string with space-separated prefix tokens\n",
    "        :param next_token: the next token to predict probability for\n",
    "        :returns: P(next_token|prefix) a single number, 0 <= P <= 1\n",
    "        \"\"\"\n",
    "        return self.get_possible_next_tokens(prefix).get(next_token, 0)"
   ]
  },
  {
   "cell_type": "markdown",
   "metadata": {
    "cellId": "0ftnn4nmuzrup6c0vvhb8q"
   },
   "source": [
    "Let's test it!"
   ]
  },
  {
   "cell_type": "code",
   "execution_count": 104,
   "metadata": {},
   "outputs": [],
   "source": [
    "dummy_lm = NGramLanguageModel(dummy_lines, n=3)"
   ]
  },
  {
   "cell_type": "code",
   "execution_count": 105,
   "metadata": {},
   "outputs": [
    {
     "data": {
      "text/plain": [
       "0.02"
      ]
     },
     "execution_count": 105,
     "metadata": {},
     "output_type": "execute_result"
    }
   ],
   "source": [
    "p_initial = dummy_lm.get_possible_next_tokens('')\n",
    "p_initial['learning']\n"
   ]
  },
  {
   "cell_type": "code",
   "execution_count": 109,
   "metadata": {},
   "outputs": [
    {
     "data": {
      "text/plain": [
       "['differential',\n",
       " 'what',\n",
       " 'p',\n",
       " 'computational',\n",
       " 'weak',\n",
       " 'creating',\n",
       " 'defeasible',\n",
       " 'essence',\n",
       " 'deep',\n",
       " 'statistical',\n",
       " 'complex',\n",
       " 'serious',\n",
       " 'preprocessing',\n",
       " 'liquid',\n",
       " 'mining',\n",
       " 'towards',\n",
       " 'a',\n",
       " 'icon',\n",
       " 'recognition',\n",
       " 'glottochronologic',\n",
       " 'the',\n",
       " 'utility',\n",
       " 'temporized',\n",
       " 'backpropagation',\n",
       " 'random',\n",
       " 'network',\n",
       " 'glottochronology',\n",
       " 'using',\n",
       " 'time',\n",
       " 'convolutional',\n",
       " 'fitness',\n",
       " 'flip',\n",
       " 'autonomous',\n",
       " 'activitynet',\n",
       " 'decision',\n",
       " 'text',\n",
       " 'discrimination',\n",
       " 'are',\n",
       " 'extraction',\n",
       " 'comments',\n",
       " 'learning',\n",
       " 'automatic',\n",
       " 'resource',\n",
       " 'advances',\n",
       " 'exploration',\n",
       " 'quantified',\n",
       " 'in',\n",
       " 'introduction',\n",
       " 'beyond',\n",
       " 'norm',\n",
       " 'about',\n",
       " 'unary',\n",
       " 'some',\n",
       " 'convex',\n",
       " 'why',\n",
       " 'neurocontrol',\n",
       " 'on',\n",
       " 'philosophy',\n",
       " 'parallels',\n",
       " 'an',\n",
       " 'calculate',\n",
       " 'group',\n",
       " 'entropy',\n",
       " 'word',\n",
       " 'guarded',\n",
       " 'cornell',\n",
       " 'semistability',\n",
       " 'proceedings',\n",
       " 'attack',\n",
       " 'standardization',\n",
       " 'defensive',\n",
       " 'piecewise',\n",
       " 'how',\n",
       " 'technical',\n",
       " 'sat',\n",
       " 'approximated',\n",
       " 'solving',\n",
       " 'agent']"
      ]
     },
     "execution_count": 109,
     "metadata": {},
     "output_type": "execute_result"
    }
   ],
   "source": [
    "p_initial = dummy_lm.get_possible_next_tokens('')\n",
    "list(p_initial)"
   ]
  },
  {
   "cell_type": "code",
   "execution_count": 106,
   "metadata": {
    "cellId": "a7zajcnvhqupvcrmacvkur"
   },
   "outputs": [],
   "source": [
    "\n",
    "\n",
    "p_initial = dummy_lm.get_possible_next_tokens('') # '' -> ['_UNK_', '_UNK_']\n",
    "assert np.allclose(p_initial['learning'], 0.02)\n",
    "assert np.allclose(p_initial['a'], 0.13)\n",
    "assert np.allclose(p_initial.get('meow', 0), 0)\n",
    "assert np.allclose(sum(p_initial.values()), 1)\n",
    "\n",
    "p_a = dummy_lm.get_possible_next_tokens('a') # '' -> ['_UNK_', 'a']\n",
    "assert np.allclose(p_a['machine'], 0.15384615)\n",
    "assert np.allclose(p_a['note'], 0.23076923)\n",
    "assert np.allclose(p_a.get('the', 0), 0)\n",
    "assert np.allclose(sum(p_a.values()), 1)\n",
    "\n",
    "assert np.allclose(dummy_lm.get_possible_next_tokens('a note')['on'], 1)\n",
    "assert dummy_lm.get_possible_next_tokens('a machine') == \\\n",
    "    dummy_lm.get_possible_next_tokens(\"there have always been ghosts in a machine\"), \\\n",
    "    \"your 3-gram model should only depend on 2 previous words\""
   ]
  },
  {
   "cell_type": "markdown",
   "metadata": {
    "cellId": "oh8r9a41kuk4r51wra9"
   },
   "source": [
    "Now that you've got a working n-gram language model, let's see what sequences it can generate. But first, let's train it on the whole dataset."
   ]
  },
  {
   "cell_type": "code",
   "execution_count": 107,
   "metadata": {
    "cellId": "f17xoejjppmooo2nopw4xo"
   },
   "outputs": [],
   "source": [
    "lm = NGramLanguageModel(lines, n=3)"
   ]
  },
  {
   "cell_type": "markdown",
   "metadata": {
    "cellId": "2kd9glwnkr470qc4bt7f1e"
   },
   "source": [
    "The process of generating sequences is... well, it's sequential. You maintain a list of tokens and iteratively add next token by sampling with probabilities.\n",
    "\n",
    "$ X = [] $\n",
    "\n",
    "__forever:__\n",
    "* $w_{next} \\sim P(w_{next} | X)$\n",
    "* $X = concat(X, w_{next})$\n",
    "\n",
    "\n",
    "Instead of sampling with probabilities, one can also try always taking most likely token, sampling among top-K most likely tokens or sampling with temperature. In the latter case (temperature), one samples from\n",
    "\n",
    "$$w_{next} \\sim {P(w_{next} | X) ^ {1 / \\tau} \\over \\sum_{\\hat w} P(\\hat w | X) ^ {1 / \\tau}}$$\n",
    "\n",
    "Where $\\tau > 0$ is model temperature. If $\\tau << 1$, more likely tokens will be sampled with even higher probability while less likely tokens will vanish."
   ]
  },
  {
   "cell_type": "code",
   "execution_count": 124,
   "metadata": {
    "cellId": "sgbatlm9vzb4z889fho7"
   },
   "outputs": [],
   "source": [
    "def get_next_token(lm, prefix, temperature=1.0):\n",
    "    \"\"\"\n",
    "    return next token after prefix;\n",
    "    :param temperature: samples proportionally to lm probabilities ^ (1 / temperature)\n",
    "        if temperature == 0, always takes most likely token. Break ties arbitrarily.\n",
    "    \"\"\"\n",
    "    probs_next_tokens = lm.get_possible_next_tokens(prefix)\n",
    "    if not probs_next_tokens:\n",
    "        return None\n",
    "    \n",
    "    probs = list(probs_next_tokens.values())\n",
    "    next_tokens = list(probs_next_tokens.keys())\n",
    "\n",
    "    if temperature == 0.0:\n",
    "        max_prob = max(probs)\n",
    "        idxs_next_tokens = [i for i in range(len(probs)) if probs[i] == max_prob]\n",
    "        idx_next_token = np.random.choice(idxs_next_tokens, size=1)[0]\n",
    "        return next_tokens[idx_next_token]\n",
    "\n",
    "    probs = [prob ** (1 / temperature) for prob in probs]\n",
    "    total_sum_probs = sum(probs)\n",
    "    normalized_probs = [prob / total_sum_probs for prob in probs]\n",
    "\n",
    "    idx_next_token = np.random.choice(range(len(next_tokens)), p=normalized_probs,size=1)[0]\n",
    "    \n",
    "    return next_tokens[idx_next_token]\n",
    "\n"
   ]
  },
  {
   "cell_type": "code",
   "execution_count": 118,
   "metadata": {},
   "outputs": [
    {
     "data": {
      "text/plain": [
       "381"
      ]
     },
     "execution_count": 118,
     "metadata": {},
     "output_type": "execute_result"
    }
   ],
   "source": [
    "test_freqs = Counter([get_next_token(lm, 'there have') for _ in range(10000)])\n",
    "test_freqs['not']"
   ]
  },
  {
   "cell_type": "code",
   "execution_count": 125,
   "metadata": {
    "cellId": "98l40131wjtd5xbdm5b2nr"
   },
   "outputs": [
    {
     "name": "stdout",
     "output_type": "stream",
     "text": [
      "Looks nice!\n"
     ]
    }
   ],
   "source": [
    "from collections import Counter\n",
    "test_freqs = Counter([get_next_token(lm, 'there have') for _ in range(10000)])\n",
    "assert 250 < test_freqs['not'] < 450\n",
    "assert 8500 < test_freqs['been'] < 9500\n",
    "assert 1 < test_freqs['lately'] < 200\n",
    "\n",
    "test_freqs = Counter([get_next_token(lm, 'deep', temperature=1.0) for _ in range(10000)])\n",
    "assert 1500 < test_freqs['learning'] < 3000\n",
    "test_freqs = Counter([get_next_token(lm, 'deep', temperature=0.5) for _ in range(10000)])\n",
    "assert 8000 < test_freqs['learning'] < 9000\n",
    "test_freqs = Counter([get_next_token(lm, 'deep', temperature=0.0) for _ in range(10000)])\n",
    "assert test_freqs['learning'] == 10000\n",
    "\n",
    "print(\"Looks nice!\")"
   ]
  },
  {
   "cell_type": "markdown",
   "metadata": {
    "cellId": "ux4n8iq523n4s3ftrelhxj"
   },
   "source": [
    "Let's have fun with this model"
   ]
  },
  {
   "cell_type": "code",
   "execution_count": 134,
   "metadata": {
    "cellId": "1nnnycga61rijt6nd8zai"
   },
   "outputs": [
    {
     "name": "stdout",
     "output_type": "stream",
     "text": [
      "number game ; clarin ( common requirements with a given text . we argue that this approach , our novel method for improving the comparison at this result by replacing the initial data , on all three sentiment and tweet level . similar to that actor based on the classification accuracy of 52 . 80 \\%$ on the partially observed in time - resolutions . we evaluate our approach has the best of our approach on several classic data augmentation . finally , we tried didn ' t know answers are given a single arm policies is that they improve upon\n"
     ]
    }
   ],
   "source": [
    "prefix = 'number' # <- your ideas :)\n",
    "\n",
    "for i in range(100):\n",
    "    prefix += ' ' + get_next_token(lm, prefix)\n",
    "    if prefix.endswith(EOS) or len(lm.get_possible_next_tokens(prefix)) == 0:\n",
    "        break\n",
    "        \n",
    "print(prefix)"
   ]
  },
  {
   "cell_type": "code",
   "execution_count": 135,
   "metadata": {
    "cellId": "pxyjsv3b7r8thdfxlgitl"
   },
   "outputs": [
    {
     "name": "stdout",
     "output_type": "stream",
     "text": [
      "bridging the gap between the two - player games , and an associated set of candidate solutions are found to be mapped to a target hypothesis that the proposed method . _EOS_\n"
     ]
    }
   ],
   "source": [
    "prefix = 'bridging the' # <- more of your ideas\n",
    "\n",
    "for i in range(100):\n",
    "    prefix += ' ' + get_next_token(lm, prefix, temperature=0.5)\n",
    "    if prefix.endswith(EOS) or len(lm.get_possible_next_tokens(prefix)) == 0:\n",
    "        break\n",
    "        \n",
    "print(prefix)"
   ]
  },
  {
   "cell_type": "markdown",
   "metadata": {
    "cellId": "2n90bscmzfko0qnctp7ysc"
   },
   "source": [
    "__More in the homework:__ nucleus sampling, top-k sampling, beam search(not for the faint of heart)."
   ]
  },
  {
   "cell_type": "markdown",
   "metadata": {
    "cellId": "3gdmey7g8at5n5c5x4gayh"
   },
   "source": [
    "### Evaluating language models: perplexity (1point)\n",
    "\n",
    "Perplexity is a measure of how well your model approximates the true probability distribution behind the data. __Smaller perplexity = better model__.\n",
    "\n",
    "To compute perplexity on one sentence, use:\n",
    "$$\n",
    "    {\\mathbb{P}}(w_1 \\dots w_N) = P(w_1, \\dots, w_N)^{-\\frac1N} = \\left( \\prod_t P(w_t \\mid w_{t - n}, \\dots, w_{t - 1})\\right)^{-\\frac1N},\n",
    "$$\n",
    "\n",
    "\n",
    "On the corpora level, perplexity is a product of probabilities of all tokens in all sentences to the power of $1/N$, where $N$ is __total length (in tokens) of all sentences__ in corpora.\n",
    "\n",
    "This number can quickly get too small for float32/float64 precision, so we recommend you to first compute log-perplexity (from log-probabilities) and then take the exponent."
   ]
  },
  {
   "cell_type": "code",
   "execution_count": 165,
   "metadata": {
    "cellId": "5hp010xyzzb4vqewo1bhny"
   },
   "outputs": [],
   "source": [
    "def perplexity(lm, lines, min_logprob=np.log(10 ** -50.)):\n",
    "    \"\"\"\n",
    "    :param lines: a list of strings with space-separated tokens\n",
    "    :param min_logprob: if log(P(w | ...)) is smaller than min_logprop, set it equal to min_logrob\n",
    "    :returns: corpora-level perplexity - a single scalar number from the formula above\n",
    "    \n",
    "    Note: do not forget to compute P(w_first | empty) and P(eos | full_sequence)\n",
    "    \n",
    "    PLEASE USE lm.get_next_token_prob and NOT lm.get_possible_next_tokens\n",
    "    \"\"\"\n",
    "\n",
    "    total_token_counts = 0\n",
    "    total_log_probs_sum = 0\n",
    "    for line in lines:\n",
    "        tokens = line.split() + [EOS]\n",
    "        log_sum = 0\n",
    "        for i in range(len(tokens)):\n",
    "            prefix = \" \".join(tokens[:i])\n",
    "            word = tokens[i]\n",
    "            log_sum += max(min_logprob, np.log(lm.get_next_token_prob(prefix, word)))\n",
    "\n",
    "        total_log_probs_sum += log_sum\n",
    "        total_token_counts += len(tokens)\n",
    "\n",
    "    avg_log_probs = total_log_probs_sum/total_token_counts\n",
    "    perplexity_probs = np.exp(-avg_log_probs)\n",
    "    print(f\"total_token_counts = {total_token_counts}\")\n",
    "            \n",
    "    return perplexity_probs"
   ]
  },
  {
   "cell_type": "code",
   "execution_count": 166,
   "metadata": {
    "cellId": "8b689bobhkey04x7pabupj"
   },
   "outputs": [
    {
     "name": "stdout",
     "output_type": "stream",
     "text": [
      "total_token_counts = 2877\n",
      "total_token_counts = 2877\n",
      "total_token_counts = 2877\n",
      "total_token_counts = 9\n",
      "Perplexities: ppx1=318.213 ppx3=1.520 ppx10=1.184\n"
     ]
    },
    {
     "name": "stderr",
     "output_type": "stream",
     "text": [
      "/tmp/ipykernel_84659/2076743267.py:20: RuntimeWarning: divide by zero encountered in log\n",
      "  log_sum += max(min_logprob, np.log(lm.get_next_token_prob(prefix, word)))\n"
     ]
    }
   ],
   "source": [
    "lm1 = NGramLanguageModel(dummy_lines, n=1)\n",
    "lm3 = NGramLanguageModel(dummy_lines, n=3)\n",
    "lm10 = NGramLanguageModel(dummy_lines, n=10)\n",
    "\n",
    "ppx1 = perplexity(lm1, dummy_lines)\n",
    "ppx3 = perplexity(lm3, dummy_lines)\n",
    "ppx10 = perplexity(lm10, dummy_lines)\n",
    "ppx_missing = perplexity(lm3, ['the jabberwock , with eyes of flame , '])  # thanks, L. Carrol\n",
    "\n",
    "print(\"Perplexities: ppx1=%.3f ppx3=%.3f ppx10=%.3f\" % (ppx1, ppx3, ppx10))\n",
    "\n",
    "assert all(0 < ppx < 500 for ppx in (ppx1, ppx3, ppx10)), \"perplexity should be non-negative and reasonably small\"\n",
    "assert ppx1 > ppx3 > ppx10, \"higher N models should overfit and \"\n",
    "assert np.isfinite(ppx_missing) and ppx_missing > 10 ** 6, \"missing words should have large but finite perplexity. \" \\\n",
    "    \" Make sure you use min_logprob right\"\n",
    "assert np.allclose([ppx1, ppx3, ppx10], (318.2132342216302, 1.5199996213739575, 1.1838145037901249))"
   ]
  },
  {
   "cell_type": "markdown",
   "metadata": {
    "cellId": "ypc4lks4vs1li908fqi8"
   },
   "source": [
    "Now let's measure the actual perplexity: we'll split the data into train and test and score model on test data only."
   ]
  },
  {
   "cell_type": "code",
   "execution_count": 150,
   "metadata": {
    "cellId": "tjnehsem2lmijkg2lto4w"
   },
   "outputs": [
    {
     "name": "stderr",
     "output_type": "stream",
     "text": [
      "/tmp/ipykernel_84659/4037025384.py:21: RuntimeWarning: divide by zero encountered in log\n",
      "  log_sum += max(min_logprob, np.log(lm.get_next_token_prob(prefix, word)))\n"
     ]
    },
    {
     "name": "stdout",
     "output_type": "stream",
     "text": [
      "N = 1, Perplexity = 1832.23136\n",
      "N = 2, Perplexity = 85653987.28543\n",
      "N = 3, Perplexity = 61999196239911532363776.00000\n"
     ]
    }
   ],
   "source": [
    "from sklearn.model_selection import train_test_split\n",
    "train_lines, test_lines = train_test_split(lines, test_size=0.25, random_state=42)\n",
    "\n",
    "for n in (1, 2, 3):\n",
    "    lm = NGramLanguageModel(n=n, lines=train_lines)\n",
    "    ppx = perplexity(lm, test_lines)\n",
    "    print(\"N = %i, Perplexity = %.5f\" % (n, ppx))\n"
   ]
  },
  {
   "cell_type": "code",
   "execution_count": null,
   "metadata": {
    "cellId": "38nfbfkpzgfxik8kccyt1l"
   },
   "outputs": [],
   "source": [
    "# whoops, it just blew up :)"
   ]
  },
  {
   "cell_type": "markdown",
   "metadata": {
    "cellId": "oopn2o57wxm9vbxzycytce"
   },
   "source": [
    "### LM Smoothing\n",
    "\n",
    "The problem with our simple language model is that whenever it encounters an n-gram it has never seen before, it assigns it with the probabilitiy of 0. Every time this happens, perplexity explodes.\n",
    "\n",
    "To battle this issue, there's a technique called __smoothing__. The core idea is to modify counts in a way that prevents probabilities from getting too low. The simplest algorithm here is Additive smoothing (aka [Lapace smoothing](https://en.wikipedia.org/wiki/Additive_smoothing)):\n",
    "\n",
    "$$ P(w_t | prefix) = { Count(prefix, w_t) + \\delta \\over \\sum_{\\hat w} (Count(prefix, \\hat w) + \\delta) } $$\n",
    "\n",
    "If counts for a given prefix are low, additive smoothing will adjust probabilities to a more uniform distribution. Not that the summation in the denominator goes over _all words in the vocabulary_.\n",
    "\n",
    "Here's an example code we've implemented for you:"
   ]
  },
  {
   "cell_type": "code",
   "execution_count": 126,
   "metadata": {
    "cellId": "ioh26rlov6g8l2ssj1c8pm"
   },
   "outputs": [],
   "source": [
    "class LaplaceLanguageModel(NGramLanguageModel): \n",
    "    \"\"\" this code is an example, no need to change anything \"\"\"\n",
    "    def __init__(self, lines, n, delta=1.0):\n",
    "        self.n = n\n",
    "        counts = count_ngrams(lines, self.n)\n",
    "        self.vocab = set(token for token_counts in counts.values() for token in token_counts)\n",
    "        self.probs = defaultdict(Counter)\n",
    "\n",
    "        for prefix in counts:\n",
    "            token_counts = counts[prefix]\n",
    "            total_count = sum(token_counts.values()) + delta * len(self.vocab)\n",
    "            self.probs[prefix] = {token: (token_counts[token] + delta) / total_count\n",
    "                                          for token in token_counts}\n",
    "    def get_possible_next_tokens(self, prefix):\n",
    "        token_probs = super().get_possible_next_tokens(prefix)\n",
    "        missing_prob_total = 1.0 - sum(token_probs.values())\n",
    "        missing_prob = missing_prob_total / max(1, len(self.vocab) - len(token_probs))\n",
    "        return {token: token_probs.get(token, missing_prob) for token in self.vocab}\n",
    "    \n",
    "    def get_next_token_prob(self, prefix, next_token):\n",
    "        token_probs = super().get_possible_next_tokens(prefix)\n",
    "        if next_token in token_probs:\n",
    "            return token_probs[next_token]\n",
    "        else:\n",
    "            missing_prob_total = 1.0 - sum(token_probs.values())\n",
    "            missing_prob_total = max(0, missing_prob_total) # prevent rounding errors\n",
    "            return missing_prob_total / max(1, len(self.vocab) - len(token_probs))\n",
    "        "
   ]
  },
  {
   "cell_type": "markdown",
   "metadata": {
    "cellId": "90vsann3920ie05r2blbmi",
    "execution_id": "3868303d-0bb9-42c6-a9a8-dcf485c8220c"
   },
   "source": [
    "**Disclaimer**: the implementation above assumes all words unknown within a given context to be equally likely, *as well as the words outside of vocabulary*. Therefore, its' perplexity will be lower than it should when encountering such words. Therefore, comparing it with a model with fewer unknown words will not be fair. When implementing your own smoothing, you may handle this by adding a virtual `UNK` token of non-zero probability. Technically, this will result in a model where probabilities do not add up to $1$, but it is close enough for a practice excercise."
   ]
  },
  {
   "cell_type": "code",
   "execution_count": 127,
   "metadata": {
    "cellId": "3xvxkdxcmfqucruyt66mdc"
   },
   "outputs": [],
   "source": [
    "#test that it's a valid probability model\n",
    "for n in (1, 2, 3):\n",
    "    dummy_lm = LaplaceLanguageModel(dummy_lines, n=n)\n",
    "    assert np.allclose(sum([dummy_lm.get_next_token_prob('a', w_i) for w_i in dummy_lm.vocab]), 1), \"I told you not to break anything! :)\""
   ]
  },
  {
   "cell_type": "code",
   "execution_count": 167,
   "metadata": {
    "cellId": "j6zqa50koitjjri9ipd8ec"
   },
   "outputs": [
    {
     "name": "stdout",
     "output_type": "stream",
     "text": [
      "total_token_counts = 1951241\n",
      "N = 1, Perplexity = 977.67559\n",
      "total_token_counts = 1951241\n",
      "N = 2, Perplexity = 470.48021\n",
      "total_token_counts = 1951241\n",
      "N = 3, Perplexity = 3679.44765\n"
     ]
    }
   ],
   "source": [
    "for n in (1, 2, 3):\n",
    "    lm = LaplaceLanguageModel(train_lines, n=n, delta=0.1)\n",
    "    ppx = perplexity(lm, test_lines)\n",
    "    print(\"N = %i, Perplexity = %.5f\" % (n, ppx))"
   ]
  },
  {
   "cell_type": "code",
   "execution_count": 168,
   "metadata": {},
   "outputs": [
    {
     "name": "stdout",
     "output_type": "stream",
     "text": [
      "bridging the trips mechanism names lowest morality employer tries conversational lineages placeraider blinded dowty onenet distributedly pronet dialectic aapm mpmp illu refered confirm %-- dvas minded structions decoding uberon gröbner mosquito valpola tbptt cooler underdiagnosis pcns bu4d winnowed concretely participatory uhhuh fires dom se owned schemein psxasj tabucol pancreatic aus zeevi maoyi corporal account sysem battista aswdr 6704 affordance nearables ofms gesammelt volleys iconip interfering coaching adl urdu informant dlan spacey buntine lennard nilm refuted au15 amodal knet prosodi inborn prioritize unifilar virgin hnp3 poster neurotransmitter initialising ccar framenet comparably seems sine 145 p2p roadside wrapper glsr 8s tnr deflecting =$ mgan\n"
     ]
    }
   ],
   "source": [
    "prefix = 'bridging the' # <- more of your ideas\n",
    "\n",
    "for i in range(100):\n",
    "    prefix += ' ' + get_next_token(lm, prefix, temperature=0.5)\n",
    "    if prefix.endswith(EOS) or len(lm.get_possible_next_tokens(prefix)) == 0:\n",
    "        break\n",
    "        \n",
    "print(prefix)"
   ]
  },
  {
   "cell_type": "code",
   "execution_count": null,
   "metadata": {
    "cellId": "pjuqt30jcerwbz1ym9zv1"
   },
   "outputs": [],
   "source": [
    "# optional: try to sample tokens from such a model"
   ]
  },
  {
   "cell_type": "markdown",
   "metadata": {
    "cellId": "3b8s1y9uls4fosu3yp28gg"
   },
   "source": [
    "### Kneser-Ney smoothing (2 points)\n",
    "\n",
    "Additive smoothing is simple, reasonably good but definitely not a State of The Art algorithm.\n",
    "\n",
    "\n",
    "Your final task in this notebook is to implement [Kneser-Ney](https://en.wikipedia.org/wiki/Kneser%E2%80%93Ney_smoothing) smoothing.\n",
    "\n",
    "It can be computed recurrently, for n>1:\n",
    "\n",
    "$$P_{kn}(w_t | prefix_{n-1}) = { \\max(0, Count(prefix_{n-1}, w_t) - \\delta) \\over \\sum_{\\hat w} Count(prefix_{n-1}, \\hat w)} + \\lambda_{prefix_{n-1}} \\cdot P_{kn}(w_t | prefix_{n-2})$$\n",
    "\n",
    "where\n",
    "- $prefix_{n-1}$ is a tuple of {n-1} previous tokens\n",
    "- $lambda_{prefix_{n-1}}$ is a normalization constant chosen so that probabilities add up to 1\n",
    "- Unigram $P_{kn}(w_t | prefix_{n-2})$ corresponds to Kneser Ney smoothing for {N-1}-gram language model.\n",
    "- Unigram $P_{kn}(w_t)$ is a special case: how likely it is to see x_t in an unfamiliar context\n",
    "\n",
    "See lecture slides or wiki for more detailed formulae.\n",
    "\n",
    "__Your task__ is to\n",
    "- implement `KneserNeyLanguageModel` class,\n",
    "- test it on 1-3 gram language models\n",
    "- find optimal (within reason) smoothing delta for 3-gram language model with Kneser-Ney smoothing"
   ]
  },
  {
   "cell_type": "code",
   "execution_count": 175,
   "metadata": {},
   "outputs": [
    {
     "data": {
      "text/plain": [
       "[1, 1, 12, 2, 3]"
      ]
     },
     "execution_count": 175,
     "metadata": {},
     "output_type": "execute_result"
    }
   ],
   "source": [
    "a = [1,1,1,12,2,3]\n",
    "a[-5:]"
   ]
  },
  {
   "cell_type": "code",
   "execution_count": 177,
   "metadata": {},
   "outputs": [
    {
     "data": {
      "text/plain": [
       "{'t': 2, 'p': 4}"
      ]
     },
     "execution_count": 177,
     "metadata": {},
     "output_type": "execute_result"
    }
   ],
   "source": [
    "fff = {'t' : 1, 'p': 2}\n",
    "\n",
    "for ff, f in fff.items():\n",
    "    fff[ff] += f\n",
    "\n",
    "fff"
   ]
  },
  {
   "cell_type": "code",
   "execution_count": null,
   "metadata": {
    "cellId": "2ix7kzw02v30oye55322all"
   },
   "outputs": [],
   "source": [
    "class KneserNeyLanguageModel(NGramLanguageModel): \n",
    "    \"\"\" A template for Kneser-Ney language model. Default delta may be suboptimal. \"\"\"\n",
    "    def __init__(self, lines, n, delta=1.0):\n",
    "        super().__init__(lines, n)\n",
    "\n",
    "        self.delta = delta\n",
    "        self.unigrams = self._compute_unigrams()\n",
    "    \n",
    "    def _compute_unigrams(self):\n",
    "        total_count_words = sum(sum(word_counter.values()) for word_counter in  self.probs.values())\n",
    "\n",
    "        unigram = {}\n",
    "\n",
    "        for word_counter in self.probs.values():\n",
    "            for word, count in word_counter.items():\n",
    "                if word in unigram:\n",
    "                    unigram[word] += count\n",
    "                else:\n",
    "                    unigram[word] = count   \n",
    "\n",
    "        unigram = {word: count/total_count_words for word, count in unigram.items()}   \n",
    "\n",
    "        return unigram\n",
    "\n",
    "    def _compute_lambda(self, prefix):\n",
    "\n",
    "        all_postfixes = self.probs[prefix]\n",
    "        total_count_non_zero = len(all_postfixes)\n",
    "        total_count_word_after_prefix = sum(all_postfixes.values())\n",
    "\n",
    "        _lambda = self.delta * (total_count_non_zero) / (total_count_word_after_prefix)\n",
    "\n",
    "        return _lambda\n",
    "\n",
    "    def get_possible_next_tokens(self, prefix):\n",
    "        next_token_probs_kn = {word : 0 for word, _ in self.probs[prefix]}\n",
    "\n",
    "        tokens = prefix.split()\n",
    "        n = len(tokens)\n",
    "        for i in range(1, n + 1):\n",
    "            if n == 1:\n",
    "                curr_lambda = self._compute_lambda(tuple([UNK] * n))\n",
    "                for word, _ in next_token_probs_kn.items():\n",
    "                    next_token_probs_kn[word] += curr_lambda * self.unigrams[word]\n",
    "            else:\n",
    "                curr_prefix = [UNK] * (n - i) + tokens[-i:]\n",
    "                prefix_tuple = tuple(curr_prefix)\n",
    "\n",
    "                word_counts = {word : self.probs[prefix_tuple][word] for word in next_token_probs_kn}\n",
    "                total_count_word_after_prefix = sum((self.probs[prefix_tuple].values()))\n",
    "                curr_lambda = self._compute_lambda(prefix_tuple)\n",
    "\n",
    "                for word in next_token_probs_kn:\n",
    "                    next_token_probs_kn[word] += (max(0, word_counts[word] - self.delta)/total_count_word_after_prefix + curr_lambda * next_token_probs_kn[word])\n",
    "            \n",
    "        \n",
    "        \n",
    "    def get_next_token_prob(self, prefix, next_token):\n",
    "        next_token_probs = self.get_possible_next_tokens(prefix)\n",
    "\n",
    "        return next_token_probs.get(next_token, 0)"
   ]
  },
  {
   "cell_type": "code",
   "execution_count": 179,
   "metadata": {
    "cellId": "lsk91832qbmdt7x1q0a8z4"
   },
   "outputs": [
    {
     "ename": "AttributeError",
     "evalue": "'KneserNeyLanguageModel' object has no attribute 'vocab'",
     "output_type": "error",
     "traceback": [
      "\u001b[0;31m---------------------------------------------------------------------------\u001b[0m",
      "\u001b[0;31mAttributeError\u001b[0m                            Traceback (most recent call last)",
      "Cell \u001b[0;32mIn[179], line 4\u001b[0m\n\u001b[1;32m      2\u001b[0m \u001b[38;5;28;01mfor\u001b[39;00m n \u001b[38;5;129;01min\u001b[39;00m (\u001b[38;5;241m1\u001b[39m, \u001b[38;5;241m2\u001b[39m, \u001b[38;5;241m3\u001b[39m):\n\u001b[1;32m      3\u001b[0m     dummy_lm \u001b[38;5;241m=\u001b[39m KneserNeyLanguageModel(dummy_lines, n\u001b[38;5;241m=\u001b[39mn)\n\u001b[0;32m----> 4\u001b[0m     \u001b[38;5;28;01massert\u001b[39;00m np\u001b[38;5;241m.\u001b[39mallclose(\u001b[38;5;28msum\u001b[39m([dummy_lm\u001b[38;5;241m.\u001b[39mget_next_token_prob(\u001b[38;5;124m'\u001b[39m\u001b[38;5;124ma\u001b[39m\u001b[38;5;124m'\u001b[39m, w_i) \u001b[38;5;28;01mfor\u001b[39;00m w_i \u001b[38;5;129;01min\u001b[39;00m \u001b[43mdummy_lm\u001b[49m\u001b[38;5;241;43m.\u001b[39;49m\u001b[43mvocab\u001b[49m]), \u001b[38;5;241m1\u001b[39m), \u001b[38;5;124m\"\u001b[39m\u001b[38;5;124mI told you not to break anything! :)\u001b[39m\u001b[38;5;124m\"\u001b[39m\n",
      "\u001b[0;31mAttributeError\u001b[0m: 'KneserNeyLanguageModel' object has no attribute 'vocab'"
     ]
    }
   ],
   "source": [
    "#test that it's a valid probability model\n",
    "for n in (1, 2, 3):\n",
    "    dummy_lm = KneserNeyLanguageModel(dummy_lines, n=n)\n",
    "    assert np.allclose(sum([dummy_lm.get_next_token_prob('a', w_i) for w_i in dummy_lm.vocab]), 1), \"I told you not to break anything! :)\""
   ]
  },
  {
   "cell_type": "code",
   "execution_count": null,
   "metadata": {
    "cellId": "pp3jtkk9annp1qkou58x1b"
   },
   "outputs": [],
   "source": [
    "for n in (1, 2, 3):\n",
    "    lm = KneserNeyLanguageModel(train_lines, n=n, smoothing=<...>)\n",
    "    ppx = perplexity(lm, test_lines)\n",
    "    print(\"N = %i, Perplexity = %.5f\" % (n, ppx))"
   ]
  }
 ],
 "metadata": {
  "kernelspec": {
   "display_name": "main_ml_venv",
   "language": "python",
   "name": "python3"
  },
  "language_info": {
   "codemirror_mode": {
    "name": "ipython",
    "version": 3
   },
   "file_extension": ".py",
   "mimetype": "text/x-python",
   "name": "python",
   "nbconvert_exporter": "python",
   "pygments_lexer": "ipython3",
   "version": "3.10.12"
  },
  "notebookId": "53997d2d-afb8-4477-8874-b6d46299f06c",
  "notebookPath": "seminar.ipynb"
 },
 "nbformat": 4,
 "nbformat_minor": 4
}
